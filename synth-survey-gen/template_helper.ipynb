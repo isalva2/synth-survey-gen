{
 "cells": [
  {
   "cell_type": "code",
   "execution_count": null,
   "metadata": {},
   "outputs": [],
   "source": [
    "# run this cell to load all data\n",
    "from preprocess import *\n",
    "from synthesize import *\n",
    "import pandas as pd\n",
    "\n",
    "config_folder = \"configs/Chicago\"\n",
    "n=100\n",
    "\n",
    "person = process_pums_data(config_folder)\n",
    "attribute_descriptions = get_attribute_descriptions(person)\n",
    "population_sample = synthesize_population(config_folder, n)\n",
    "\n",
    "df = pd.read_csv(\"configs/Chicago/pums_person_include.csv\")\n",
    "include = df[df.include==True][\"var\"].values\n",
    "for key, val in attribute_descriptions.items():\n",
    "    if key[:-5] in include:\n",
    "        print(f\"{key}:\\t{val}\")"
   ]
  },
  {
   "cell_type": "code",
   "execution_count": null,
   "metadata": {},
   "outputs": [],
   "source": [
    "# run this cell to test jinja2 templating\n",
    "for _, individual in population_sample.iterrows():\n",
    "    individual_attributes = attribute_decoder_dict(individual.to_dict(), person)\n",
    "    write_individual_bio(individual_attributes, attribute_descriptions, config_folder)"
   ]
  }
 ],
 "metadata": {
  "kernelspec": {
   "display_name": "venv",
   "language": "python",
   "name": "python3"
  },
  "language_info": {
   "codemirror_mode": {
    "name": "ipython",
    "version": 3
   },
   "file_extension": ".py",
   "mimetype": "text/x-python",
   "name": "python",
   "nbconvert_exporter": "python",
   "pygments_lexer": "ipython3",
   "version": "3.13.1"
  }
 },
 "nbformat": 4,
 "nbformat_minor": 2
}
