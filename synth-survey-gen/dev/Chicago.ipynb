{
 "cells": [
  {
   "cell_type": "code",
   "execution_count": null,
   "id": "6e3c1b8b",
   "metadata": {},
   "outputs": [],
   "source": [
    "import geopandas as gpd\n",
    "import pandas as pd\n",
    "from pathlib import Path\n",
    "import matplotlib.pyplot as plt\n",
    "\n",
    "config_folder = Path(\"../configs/Chicago\")\n",
    "\n",
    "# get populationsim synthetic population\n",
    "popsim_df = pd.read_csv(config_folder / \"data/populationsim/output/synthetic_persons.csv\")\n",
    "\n",
    "# get PUMS dataset from POLARIS\n",
    "pums_df = pd.read_csv(config_folder / \"data/populationsim/data/pums_person_chicago.csv\", dtype=str)\n",
    "\n",
    "# get PUMS PUMA geography\n",
    "# https://catalog.data.gov/dataset/tiger-line-shapefile-2019-2010-state-illinois-2010-census-public-use-microdata-area-puma-state-\n",
    "puma_gdf = gpd.read_file(config_folder / \"data/tl_2019_17_puma10.shp\")\n",
    "\n",
    "# get CMAP planning area\n",
    "# https://datahub.cmap.illinois.gov/datasets/4834d52310d24e56a0300898a0cb23bc_0/explore\n",
    "cmap_gdf = gpd.read_file(config_folder / \"data/Facility_Planning_Areas_2016.shp\")"
   ]
  },
  {
   "cell_type": "code",
   "execution_count": null,
   "id": "042b5618",
   "metadata": {},
   "outputs": [],
   "source": [
    "pums_df"
   ]
  },
  {
   "cell_type": "code",
   "execution_count": null,
   "id": "8b3ed7d9",
   "metadata": {},
   "outputs": [],
   "source": [
    "pums_df.dtypes"
   ]
  },
  {
   "cell_type": "code",
   "execution_count": null,
   "id": "c864f866",
   "metadata": {},
   "outputs": [],
   "source": [
    "# get puma areas within cmap planning boundary\n",
    "cmap_gdf.to_crs(puma_gdf.crs, inplace=True)\n",
    "\n",
    "cmap_boundary = cmap_gdf.geometry.union_all()\n",
    "\n",
    "puma_in_cmap_gdf = puma_gdf[puma_gdf.geometry.intersects(cmap_boundary)].reset_index(drop=True)\n",
    "\n",
    "\n",
    "\n",
    "fig, ax = plt.subplots()\n",
    "\n",
    "puma_in_cmap_gdf.plot(ax=ax, alpha=0.5)\n",
    "x, y = cmap_boundary.exterior.xy\n",
    "ax.plot(x, y)\n",
    "\n",
    "plt.show()"
   ]
  },
  {
   "cell_type": "code",
   "execution_count": null,
   "id": "5997fbb7",
   "metadata": {},
   "outputs": [],
   "source": [
    "# add STPUMA to puma_in_cmap gdf\n",
    "puma_in_cmap_gdf[\"STPUMA\"] = puma_in_cmap_gdf[\"PUMACE10\"].apply(\n",
    "    lambda x: int(\"17\" + str(x))\n",
    ")\n",
    "\n",
    "# get population totals by STPUMA from popsim df\n",
    "pop_totals = popsim_df.groupby(\"STPUMA\").size().reset_index(name=\"count\")\n",
    "pop_totals.columns = [\"STPUMA\", \"POP_COUNT\"]\n",
    "puma_with_pop_gdf = puma_in_cmap_gdf.merge(pop_totals, how=\"left\", left_on=\"STPUMA\", right_on=\"STPUMA\")\n",
    "\n",
    "# get share of population in PUMA areas\n",
    "puma_with_pop_gdf[\"SHARE\"] = puma_with_pop_gdf.POP_COUNT / puma_with_pop_gdf.POP_COUNT.sum()\n",
    "\n",
    "fig, ax = plt.subplots()\n",
    "\n",
    "puma_with_pop_gdf.plot(ax=ax, alpha=0.75, column=\"POP_COUNT\", legend=True)\n",
    "x, y = cmap_boundary.exterior.xy\n",
    "ax.plot(x, y)\n",
    "\n",
    "plt.show()"
   ]
  },
  {
   "cell_type": "code",
   "execution_count": null,
   "id": "9b84ba38",
   "metadata": {},
   "outputs": [],
   "source": [
    "# okay now filter PUMS dataset by SERIALNO in popsim\n",
    "pums_in_popsim_df = pums_df[pums_df.SERIALNO.isin(popsim_df.SERIALNO.astype(str).unique())]\n",
    "pums_in_popsim_df"
   ]
  },
  {
   "cell_type": "code",
   "execution_count": null,
   "id": "ba8a17a8",
   "metadata": {},
   "outputs": [],
   "source": [
    "\n",
    "n_sample = 2000\n",
    "\n",
    "samples = []\n",
    "for _, row in puma_with_pop_gdf.iterrows():\n",
    "    STPUMA = str(row.STPUMA)\n",
    "    share = row.SHARE\n",
    "\n",
    "    n = max(int(share*n_sample), 1)\n",
    "    sample = pums_in_popsim_df[pums_in_popsim_df.STPUMA==STPUMA].sample(\n",
    "        n=n,\n",
    "        replace=False,\n",
    "        random_state=0)\n",
    "    samples.append(sample)\n",
    "\n",
    "pums_sample = pd.concat(samples).reset_index(drop=True)\n",
    "\n",
    "\n"
   ]
  },
  {
   "cell_type": "code",
   "execution_count": null,
   "id": "9d3a5020",
   "metadata": {},
   "outputs": [],
   "source": [
    "pums_sample"
   ]
  }
 ],
 "metadata": {
  "kernelspec": {
   "display_name": "venv",
   "language": "python",
   "name": "python3"
  },
  "language_info": {
   "codemirror_mode": {
    "name": "ipython",
    "version": 3
   },
   "file_extension": ".py",
   "mimetype": "text/x-python",
   "name": "python",
   "nbconvert_exporter": "python",
   "pygments_lexer": "ipython3",
   "version": "3.11.13"
  }
 },
 "nbformat": 4,
 "nbformat_minor": 5
}
