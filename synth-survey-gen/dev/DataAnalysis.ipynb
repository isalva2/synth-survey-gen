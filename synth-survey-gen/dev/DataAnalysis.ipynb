{
 "cells": [
  {
   "cell_type": "code",
   "execution_count": null,
   "id": "b467200b",
   "metadata": {},
   "outputs": [],
   "source": [
    "import pandas as pd\n",
    "import matplotlib.pyplot as plt\n",
    "from pathlib import Path\n",
    "import sys\n",
    "import os\n",
    "import numpy as np\n",
    "sys.path.append(os.path.abspath(\"..\"))\n",
    "from preprocess import process_MyDailyTravelData\n",
    "\n",
    "survey_path = Path(\"../configs/Chicago/data/person.csv\")\n",
    "synth_path = Path(\"../run/acer_runs/Chicago_20250518_1525/20250518_1525_results.csv\")\n",
    "config_folder = Path(\"../configs/Chicago\")\n",
    "\n",
    "survey_df = pd.read_csv(survey_path, low_memory=False)\n",
    "synth_df = pd.read_csv(synth_path, index_col=0)\n",
    "query_dict = process_MyDailyTravelData(config_folder=config_folder)"
   ]
  }
 ],
 "metadata": {
  "kernelspec": {
   "display_name": "lenv (3.11.11)",
   "language": "python",
   "name": "python3"
  },
  "language_info": {
   "codemirror_mode": {
    "name": "ipython",
    "version": 3
   },
   "file_extension": ".py",
   "mimetype": "text/x-python",
   "name": "python",
   "nbconvert_exporter": "python",
   "pygments_lexer": "ipython3",
   "version": "3.11.11"
  }
 },
 "nbformat": 4,
 "nbformat_minor": 5
}
