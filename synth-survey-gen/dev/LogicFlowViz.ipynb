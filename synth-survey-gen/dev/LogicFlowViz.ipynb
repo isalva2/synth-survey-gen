{
 "cells": [
  {
   "cell_type": "markdown",
   "id": "0764cb4d",
   "metadata": {},
   "source": [
    "Run this cell to visualize logic flow"
   ]
  },
  {
   "cell_type": "code",
   "execution_count": 5,
   "id": "5576f216",
   "metadata": {},
   "outputs": [],
   "source": [
    "import sys\n",
    "import os\n",
    "from pyvis.network import Network\n",
    "import networkx as nx\n",
    "sys.path.append(os.path.abspath(\"..\"))\n",
    "\n",
    "from synthesize import load_config\n",
    "\n",
    "config_folder = \"../configs/Chicago\"\n",
    "\n",
    "_, _, survey_conf = load_config(config_folder=config_folder)\n",
    "flow_dict = survey_conf[\"logic\"]\n",
    "\n",
    "G = nx.DiGraph()\n",
    "\n",
    "def add_edges(node, visited=set()):\n",
    "    if node in visited or node is None:\n",
    "        return\n",
    "    visited.add(node)\n",
    "    target = flow_dict.get(node)\n",
    "    if isinstance(target, dict):\n",
    "        for k, v in target.items():\n",
    "            if v:\n",
    "                G.add_edge(node, v, label=k)\n",
    "                add_edges(v, visited)\n",
    "    elif isinstance(target, str):\n",
    "        G.add_edge(node, target)\n",
    "        add_edges(target, visited)\n",
    "\n",
    "add_edges('INTRO')\n",
    "\n",
    "net = Network(directed=True)\n",
    "net.from_nx(G)\n",
    "html_path = \"interactive_flowchart.html\"\n",
    "net.write_html(html_path)"
   ]
  }
 ],
 "metadata": {
  "kernelspec": {
   "display_name": "lenv",
   "language": "python",
   "name": "python3"
  },
  "language_info": {
   "codemirror_mode": {
    "name": "ipython",
    "version": 3
   },
   "file_extension": ".py",
   "mimetype": "text/x-python",
   "name": "python",
   "nbconvert_exporter": "python",
   "pygments_lexer": "ipython3",
   "version": "3.11.11"
  }
 },
 "nbformat": 4,
 "nbformat_minor": 5
}
