{
 "cells": [
  {
   "cell_type": "markdown",
   "id": "08428e5b",
   "metadata": {},
   "source": [
    "# Enquête Ménages Déplacements (EMD), Lyon / Aire métropolitaine lyonnée - 2015\n",
    "EDA on 2015 [EMD Lyon transportation survey](https://data.progedo.fr/studies/doi/10.13144/lil-1023)."
   ]
  },
  {
   "cell_type": "markdown",
   "id": "24d22de7",
   "metadata": {},
   "source": [
    "Try reading `Questionnaire_EDGT_FaF_Lyon_2015.pdf` with the **correctly formatted questions** using `pdfplumber`."
   ]
  },
  {
   "cell_type": "markdown",
   "id": "645e97db",
   "metadata": {},
   "source": [
    "Next, get variable names from `Dessin_fichier_Dictionnaire_variables_EDGT_AML_Face-a-Face_02082015.xls`"
   ]
  },
  {
   "cell_type": "code",
   "execution_count": 3,
   "id": "9ed45ff7",
   "metadata": {},
   "outputs": [],
   "source": [
    "import pandas as pd\n",
    "from typing import Tuple, List\n",
    "\n",
    "def get_lyon_vars(file_path: str) -> Tuple[List[str]]:\n",
    "    \"\"\"Returns the encoded variable names of the Lyon survey for\n",
    "            1. Menage = household\n",
    "            2. Personn = trip purpose\n",
    "            3. Deplacement = trip properties\n",
    "            4. Opinion = opinion\n",
    "\n",
    "    Args:\n",
    "        file_path (str): path to Lyon variable dictionary .xls file\n",
    "\n",
    "    Returns:\n",
    "        tuple(List[str]): tuple of variable names for survey parts\n",
    "    \"\"\"\n",
    "    df = pd.read_excel(file_path, sheet_name=0, header=1)\n",
    "    exclude_vars = [\"Variables\", \"MP1\", \"ZFM\", \"ECH\", \"DATE\"]\n",
    "    variables = df.Variables.dropna()[~df.Variables.isin(exclude_vars)]\n",
    "\n",
    "    menage_vars = [var for var in variables if var.startswith(\"M\")]         # MX\n",
    "    personne_vars = [var for var in variables if var.startswith(\"P\")]       # PX\n",
    "    deplacement_vars = [var for var in variables if var.startswith(\"D\")]    # DX\n",
    "    trajet_vars = [var for var in variables if var.startswith(\"T\")]         # TX\n",
    "    opinion_vars = [var for var in variables if var.startswith(\"O\")]        # OX\n",
    "\n",
    "    return menage_vars, personne_vars, deplacement_vars, trajet_vars, opinion_vars\n",
    "\n",
    "file_path = \"../configs/Lyon/data/Dessin_fichier_Dictionnaire_variables_EDGT_AML_Face-a-Face_02082015.xls\"\n",
    "\n",
    "lyon_variables = get_lyon_vars(file_path)"
   ]
  },
  {
   "cell_type": "code",
   "execution_count": null,
   "id": "26a61949",
   "metadata": {},
   "outputs": [],
   "source": [
    "import ast\n",
    "from typing import List\n",
    "\n",
    "def get_fiche_responses(excel_path: str):\n",
    "    # read df, get var name series and var response df\n",
    "    df = pd.read_excel(excel_path, sheet_name=1)\n",
    "\n",
    "    # get list of list of variables that corresponds to grouped response options\n",
    "    var_series = df.iloc[:,0]\n",
    "    var_series = var_series[~var_series.str.contains(\"FILTRE\", na=False)]\n",
    "\n",
    "    # group on 'islands' of vars\n",
    "    mask =var_series.notna()\n",
    "    groups = (mask != mask.shift()).cumsum()\n",
    "    var_groups = [group.to_list() for key, group in var_series.groupby(groups) if group.notna().any()]\n",
    "\n",
    "    # concat and convert groups of vars to one list\n",
    "    formatted_var_groups = []\n",
    "    for group in var_groups:\n",
    "        if len(group) == 1 and not \",\" in group[0]:\n",
    "            formatted_var_groups.append(group)\n",
    "        elif len(group) == 1:\n",
    "            formatted_group = [var.strip() for var in group[0].split(\",\")]\n",
    "            formatted_var_groups.append(formatted_group)\n",
    "        elif len(group) >= 1:\n",
    "            formatted_vars = []\n",
    "            for subgroup in group:\n",
    "                formatted_subgroup = [var.strip() for var in subgroup.split(\",\")]\n",
    "                formatted_vars.extend(formatted_subgroup)\n",
    "            formatted_var_groups.append(formatted_vars)\n",
    "        else:\n",
    "            print(f\"Group {group} not formatted\")\n",
    "\n",
    "    # group response options - if correct should be the same\n",
    "    # length as formatted_var_groups\n",
    "    response_options_df = df.iloc[:,1:]\n",
    "\n",
    "    # get mask and index for each group\n",
    "    mask = response_options_df.iloc[:,1].notna()\n",
    "    group_id = (mask != mask.shift()).cumsum()\n",
    "    filtered_groups = response_options_df[mask].groupby(group_id)\n",
    "    chunks = [group for _, group in filtered_groups]\n",
    "\n",
    "    return formatted_var_groups, chunks\n",
    "\n",
    "formatted_var_groups, chunks = get_fiche_responses(file_path)"
   ]
  },
  {
   "cell_type": "code",
   "execution_count": null,
   "id": "7020579c",
   "metadata": {},
   "outputs": [],
   "source": []
  }
 ],
 "metadata": {
  "kernelspec": {
   "display_name": "venv",
   "language": "python",
   "name": "python3"
  },
  "language_info": {
   "codemirror_mode": {
    "name": "ipython",
    "version": 3
   },
   "file_extension": ".py",
   "mimetype": "text/x-python",
   "name": "python",
   "nbconvert_exporter": "python",
   "pygments_lexer": "ipython3",
   "version": "3.11.13"
  }
 },
 "nbformat": 4,
 "nbformat_minor": 5
}
