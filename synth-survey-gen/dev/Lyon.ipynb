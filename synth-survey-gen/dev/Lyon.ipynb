{
 "cells": [
  {
   "cell_type": "markdown",
   "id": "08428e5b",
   "metadata": {},
   "source": [
    "# Enquête Ménages Déplacements (EMD), Lyon / Aire métropolitaine lyonnée - 2015\n",
    "EDA on 2015 [EMD Lyon transportation survey](https://data.progedo.fr/studies/doi/10.13144/lil-1023)."
   ]
  },
  {
   "cell_type": "markdown",
   "id": "24d22de7",
   "metadata": {},
   "source": [
    "Try reading `Questionnaire_EDGT_FaF_Lyon_2015.pdf` with the **correctly formatted questions** using `pdfplumber`."
   ]
  },
  {
   "cell_type": "markdown",
   "id": "645e97db",
   "metadata": {},
   "source": [
    "Next, get variable names from `Dessin_fichier_Dictionnaire_variables_EDGT_AML_Face-a-Face_02082015.xls`"
   ]
  },
  {
   "cell_type": "code",
   "execution_count": 1,
   "id": "9ed45ff7",
   "metadata": {},
   "outputs": [],
   "source": [
    "import pandas as pd\n",
    "from typing import Tuple, List\n",
    "\n",
    "config_folder = \"../configs/Lyon\"\n",
    "file_path = \"../configs/Lyon/data/Dessin_fichier_Dictionnaire_variables_EDGT_AML_Face-a-Face_02082015.xls\"\n",
    "\n",
    "def get_lyon_vars(file_path: str) -> Tuple[List[str]]:\n",
    "    \"\"\"Returns the encoded variable names of the Lyon survey for\n",
    "            1. Menage = household\n",
    "            2. Personn = trip purpose\n",
    "            3. Deplacement = trip properties\n",
    "            4. Opinion = opinion\n",
    "\n",
    "    Args:\n",
    "        file_path (str): path to Lyon variable dictionary .xls file\n",
    "\n",
    "    Returns:\n",
    "        tuple(List[str]): tuple of variable names for survey parts\n",
    "    \"\"\"\n",
    "    df = pd.read_excel(file_path, sheet_name=0, header=1)\n",
    "    exclude_vars = [\"Variables\", \"MP1\", \"ZFM\", \"ECH\", \"DATE\"]\n",
    "    variables = df.Variables.dropna()[~df.Variables.isin(exclude_vars)]\n",
    "\n",
    "    menage_vars = [var for var in variables if var.startswith(\"M\")]         # MX\n",
    "    personne_vars = [var for var in variables if var.startswith(\"P\")]       # PX\n",
    "    deplacement_vars = [var for var in variables if var.startswith(\"D\")]    # DX\n",
    "    trajet_vars = [var for var in variables if var.startswith(\"T\")]         # TX\n",
    "    opinion_vars = [var for var in variables if var.startswith(\"O\")]        # OX\n",
    "\n",
    "    return menage_vars, personne_vars, deplacement_vars, trajet_vars, opinion_vars\n",
    "\n",
    "\n",
    "lyon_variables = get_lyon_vars(file_path)\n",
    "\n",
    "def get_fiche_responses(excel_path: str):\n",
    "    # read df, get var name series and var response df\n",
    "    df = pd.read_excel(excel_path, sheet_name=1)\n",
    "\n",
    "    # get list of list of variables that corresponds to grouped response options\n",
    "    var_series = df.iloc[:,0]\n",
    "    var_series = var_series[~var_series.str.contains(\"FILTRE\", na=False)]\n",
    "\n",
    "    # group on 'islands' of vars\n",
    "    mask =var_series.notna()\n",
    "    groups = (mask != mask.shift()).cumsum()\n",
    "    var_groups = [group.to_list() for key, group in var_series.groupby(groups) if group.notna().any()]\n",
    "\n",
    "    # concat and convert groups of vars to one list\n",
    "    formatted_var_groups = []\n",
    "    for group in var_groups:\n",
    "        if len(group) == 1 and not \",\" in group[0]:\n",
    "            formatted_var_groups.append(group)\n",
    "        elif len(group) == 1:\n",
    "            formatted_group = [var.strip() for var in group[0].split(\",\")]\n",
    "            formatted_var_groups.append(formatted_group)\n",
    "        elif len(group) >= 1:\n",
    "            formatted_vars = []\n",
    "            for subgroup in group:\n",
    "                formatted_subgroup = [var.strip() for var in subgroup.split(\",\")]\n",
    "                formatted_vars.extend(formatted_subgroup)\n",
    "            formatted_var_groups.append(formatted_vars)\n",
    "        else:\n",
    "            print(f\"Group {group} not formatted\")\n",
    "\n",
    "    # group response options - if correct should be the same\n",
    "    # length as formatted_var_groups\n",
    "    response_options_df = df.iloc[:,1:]\n",
    "\n",
    "    # get mask and index for each group\n",
    "    mask = response_options_df.iloc[:,1].notna()\n",
    "    group_id = (mask != mask.shift()).cumsum()\n",
    "    filtered_groups = response_options_df[mask].groupby(group_id)\n",
    "    chunks = [group for _, group in filtered_groups]\n",
    "\n",
    "    return formatted_var_groups, chunks\n",
    "\n",
    "def df_to_dict(df: pd.DataFrame):\n",
    "    df = df.dropna()\n",
    "    try:\n",
    "        converted_dict = dict(zip(df[\"FICHE MENAGE\"].astype(int).astype(str), df[\"Unnamed: 2\"]))\n",
    "    except:\n",
    "        converted_dict = dict(zip(df[\"FICHE MENAGE\"].astype(str), df[\"Unnamed: 2\"]))\n",
    "    return converted_dict"
   ]
  },
  {
   "cell_type": "markdown",
   "id": "a24dc0df",
   "metadata": {},
   "source": [
    "## EMD Question dictionary"
   ]
  },
  {
   "cell_type": "code",
   "execution_count": 4,
   "id": "9fb3bb75",
   "metadata": {},
   "outputs": [],
   "source": [
    "import re\n",
    "from pathlib import Path\n",
    "\n",
    "def process_EnqueteMenagesDeplacements(config_folder:str):\n",
    "    data_path = Path(config_folder) / \"data\"\n",
    "    data_dictionary_path = data_path / \"Dessin_fichier_Dictionnaire_variables_EDGT_AML_Face-a-Face_02082015.xls\"\n",
    "    questions_path = Path(config_folder) / \"questions.csv\"\n",
    "\n",
    "    # questions df\n",
    "    questions_df = pd.read_csv(questions_path, header=None, names=[\"var\", \"question\"])\n",
    "\n",
    "    # variables and responses from data dictionary\n",
    "    var_groups, chunks = get_fiche_responses(data_dictionary_path)\n",
    "\n",
    "    formatted_responses = [df_to_dict(chunk) for chunk in chunks]\n",
    "    question_vars = questions_df.iloc[:,0].to_list()\n",
    "\n",
    "    query_dictionary = {}\n",
    "    re_ignore = [\"JOURDEP\", \"M12A\"]\n",
    "\n",
    "    for group_index, var_group in enumerate(var_groups):\n",
    "        for var in var_group:\n",
    "            if var not in re_ignore:\n",
    "                var = re.sub(r'([A-Z]+\\d+)(?:[A-Z]$|-\\d+$)', r'\\1', var)\n",
    "            if var in question_vars:\n",
    "                query_dictionary[var] = {\n",
    "                    \"question\": questions_df[questions_df[\"var\"] == var][\"question\"].values[0],\n",
    "                    \"dtype\": \"TEXT\",\n",
    "                    \"response\": formatted_responses[group_index]\n",
    "                }\n",
    "\n",
    "    return query_dictionary\n",
    "\n",
    "query_dictionary = process_EnqueteMenagesDeplacements(config_folder=config_folder)"
   ]
  },
  {
   "cell_type": "markdown",
   "id": "de127fe0",
   "metadata": {},
   "source": [
    "# Population synthesis\n",
    "\n",
    "Extract rows from [Individus localisés au canton-ou-ville en 2021](https://www.insee.fr/fr/statistiques/8268848) using synthesized Lyon population `lyon_persons.csv` and original `FD_INDCVI_2021.csv` survey."
   ]
  },
  {
   "cell_type": "code",
   "execution_count": 5,
   "id": "4348c9e4",
   "metadata": {},
   "outputs": [],
   "source": [
    "# get index from population synthesis\n",
    "data_path = Path(config_folder) / \"data\"\n",
    "index_path = data_path / \"lyon_persons.csv\"\n",
    "census_path = data_path / \"FD_INDCVI_2021.csv\"\n",
    "\n",
    "index_df = pd.read_csv(index_path, sep=\";\")\n",
    "tracked_records = index_df.TRACKER.values\n",
    "\n",
    "records = []\n",
    "\n",
    "census_df = pd.read_csv(\n",
    "    census_path,\n",
    "    chunksize=10240,\n",
    "    index_col=False,\n",
    "    sep=\";\",\n",
    "    low_memory=False,\n",
    "    dtype=str\n",
    "    )\n",
    "\n",
    "for chunk in census_df:\n",
    "    filtered_chunk = chunk[chunk.index.isin(tracked_records)]\n",
    "    if not filtered_chunk.empty:\n",
    "        records.append(filtered_chunk)\n",
    "census_df = pd.concat(records)\n"
   ]
  },
  {
   "cell_type": "code",
   "execution_count": 6,
   "id": "33364d14",
   "metadata": {},
   "outputs": [],
   "source": [
    "write_path = data_path / \"lyon_FD_INDCVI_2021.csv\"\n",
    "census_df.to_csv(write_path, sep=\";\")"
   ]
  },
  {
   "cell_type": "markdown",
   "id": "27989c74",
   "metadata": {},
   "source": [
    "Check spatial quality"
   ]
  },
  {
   "cell_type": "code",
   "execution_count": null,
   "id": "51102f7a",
   "metadata": {},
   "outputs": [],
   "source": [
    "import geopandas as gpd\n",
    "\n",
    "spatial_path = data_path / \"CONTOURS-IRIS_3-0__SHP__FRA_2023-01-01\"\n",
    "\n",
    "spatial_files = [file_path for file_path in spatial_path.rglob(\"*.shp\")]\n",
    "\n",
    "gdfs = []\n",
    "for file_path in spatial_files:\n",
    "    gdf = gpd.read_file(file_path).to_crs(3857)\n",
    "    gdfs.append(gdf)\n",
    "\n",
    "concatted = pd.concat(gdfs)\n",
    "\n",
    "lyon_iris = census_df.IRIS.values\n",
    "\n",
    "filtered = concatted[concatted.CODE_IRIS.isin(lyon_iris)]"
   ]
  },
  {
   "cell_type": "code",
   "execution_count": null,
   "id": "b04bc882",
   "metadata": {},
   "outputs": [],
   "source": [
    "lyon_path = data_path / \"metropole-de-lyon_ter_territoire.teriris_latest/ter_territoire_teriris_latest.shp\"\n",
    "lyon_gdf = gpd.read_file(lyon_path).to_crs(3857)"
   ]
  },
  {
   "cell_type": "code",
   "execution_count": null,
   "id": "bec1196f",
   "metadata": {},
   "outputs": [],
   "source": [
    "import matplotlib.pyplot as plt\n",
    "fig, ax = plt.subplots()\n",
    "filtered.plot(ax=ax)\n",
    "lyon_gdf.plot(color=\"red\", ax=ax, zorder=-1)"
   ]
  },
  {
   "cell_type": "code",
   "execution_count": null,
   "id": "ed5f4ae6",
   "metadata": {},
   "outputs": [],
   "source": []
  }
 ],
 "metadata": {
  "kernelspec": {
   "display_name": "lenv (3.11.11)",
   "language": "python",
   "name": "python3"
  },
  "language_info": {
   "codemirror_mode": {
    "name": "ipython",
    "version": 3
   },
   "file_extension": ".py",
   "mimetype": "text/x-python",
   "name": "python",
   "nbconvert_exporter": "python",
   "pygments_lexer": "ipython3",
   "version": "3.11.11"
  }
 },
 "nbformat": 4,
 "nbformat_minor": 5
}
