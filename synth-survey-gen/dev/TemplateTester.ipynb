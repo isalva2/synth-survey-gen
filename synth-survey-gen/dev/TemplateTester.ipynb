{
 "cells": [
  {
   "cell_type": "markdown",
   "metadata": {},
   "source": [
    "Run this cell to initialize population synthesis"
   ]
  },
  {
   "cell_type": "code",
   "execution_count": null,
   "metadata": {},
   "outputs": [],
   "source": [
    "import sys\n",
    "import os\n",
    "sys.path.append(os.path.abspath(\"..\"))\n",
    "\n",
    "from synthesize import *\n",
    "from preprocess import *\n",
    "\n",
    "\n",
    "config_folder = \"../configs/Chicago\"\n",
    "n = 1000\n",
    "\n",
    "person = process_pums_data(config_folder)\n",
    "population_sample = synthesize_population(\n",
    "    config_folder=config_folder, n_sample=n, min_age=18, max_age=65, random_state=2\n",
    ")\n",
    "ploc = puma_locations(config_folder)"
   ]
  },
  {
   "cell_type": "code",
   "execution_count": 2,
   "metadata": {},
   "outputs": [],
   "source": [
    "from types import SimpleNamespace"
   ]
  },
  {
   "cell_type": "markdown",
   "metadata": {},
   "source": [
    "Run this cell to initalize template generation"
   ]
  },
  {
   "cell_type": "code",
   "execution_count": null,
   "metadata": {},
   "outputs": [],
   "source": [
    "smg = SystemMessageGenerator(config_folder, \"SystemMessage.j2\", verbose_debug=False, shuffle=True, wrap=80)\n",
    "year = 2019\n",
    "\n",
    "output = []\n",
    "attribute_descriptions = get_attribute_descriptions(person)\n",
    "for i, individual in population_sample.reset_index().iterrows():\n",
    "    individual_attributes = attribute_decoder_dict(individual.to_dict(), person)\n",
    "    system_message = smg.write_system_message(**individual_attributes, **attribute_descriptions, ploc=ploc, YEAR=year)\n",
    "    print(system_message)\n",
    "    print('\\n')"
   ]
  },
  {
   "cell_type": "code",
   "execution_count": null,
   "metadata": {},
   "outputs": [],
   "source": [
    "def _listify(items: List[str]) -> str:\n",
    "    if not items:\n",
    "        return ''\n",
    "    if len(items) == 1:\n",
    "        return items[0]\n",
    "    elif len(items) == 2:\n",
    "        return f'{items[0]} and {items[1]}'\n",
    "    else:\n",
    "        return f\"{', '.join(items[:-1])}, and {items[-1]}\"\n",
    "\n",
    "test = [\"x\", \"y\"]\n",
    "test2 = [\"x\", \"y\", \"x\"]\n",
    "\n",
    "print(_listify([]))\n",
    "print(_listify(test))\n",
    "print(_listify(test2))"
   ]
  }
 ],
 "metadata": {
  "kernelspec": {
   "display_name": "lenv",
   "language": "python",
   "name": "python3"
  },
  "language_info": {
   "codemirror_mode": {
    "name": "ipython",
    "version": 3
   },
   "file_extension": ".py",
   "mimetype": "text/x-python",
   "name": "python",
   "nbconvert_exporter": "python",
   "pygments_lexer": "ipython3",
   "version": "3.11.11"
  }
 },
 "nbformat": 4,
 "nbformat_minor": 2
}
