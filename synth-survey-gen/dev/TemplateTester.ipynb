{
 "cells": [
  {
   "cell_type": "markdown",
   "metadata": {},
   "source": [
    "Run this cell to initialize population synthesis"
   ]
  },
  {
   "cell_type": "code",
   "execution_count": null,
   "metadata": {},
   "outputs": [],
   "source": [
    "import sys\n",
    "import os\n",
    "sys.path.append(os.path.abspath(\"..\"))\n",
    "\n",
    "from synthesize import *\n",
    "from preprocess import *\n",
    "\n",
    "\n",
    "config_folder = \"../configs/Chicago\"\n",
    "n = 1000\n",
    "\n",
    "person = process_pums_data(config_folder)\n",
    "population_sample = synthesize_population(\n",
    "    config_folder=config_folder, n_sample=n, min_age=18, max_age=65, random_state=2\n",
    ")\n",
    "ploc = puma_locations(config_folder)"
   ]
  },
  {
   "cell_type": "markdown",
   "metadata": {},
   "source": [
    "Run this cell to initalize template generation"
   ]
  },
  {
   "cell_type": "code",
   "execution_count": null,
   "metadata": {},
   "outputs": [],
   "source": [
    "smg = SystemMessageGenerator(config_folder, \"SystemMessage.j2\", verbose_debug=False)\n",
    "year = 2019\n",
    "\n",
    "def wrap_text(text, n):\n",
    "    words = text.split()\n",
    "    lines = []\n",
    "    current_line = []\n",
    "\n",
    "    for word in words:\n",
    "        # Check if adding the next word would exceed the limit\n",
    "        if sum(len(w) for w in current_line) + len(current_line) + len(word) <= n:\n",
    "            current_line.append(word)\n",
    "        else:\n",
    "            # Join current line and start a new one\n",
    "            lines.append(' '.join(current_line))\n",
    "            current_line = [word]\n",
    "\n",
    "    # Add last line if not empty\n",
    "    if current_line:\n",
    "        lines.append(' '.join(current_line))\n",
    "\n",
    "    return '\\n'.join(lines)\n",
    "\n",
    "output = []\n",
    "attribute_descriptions = get_attribute_descriptions(person)\n",
    "for i, individual in population_sample.reset_index().iterrows():\n",
    "    individual_attributes = attribute_decoder_dict(individual.to_dict(), person)\n",
    "    system_message = smg.write_system_message(**individual_attributes, **attribute_descriptions, ploc=ploc, YEAR=year)\n",
    "    print(wrap_text(system_message, 80)+\"\\n\")"
   ]
  },
  {
   "cell_type": "code",
   "execution_count": null,
   "metadata": {},
   "outputs": [],
   "source": [
    "import locale\n",
    "\n",
    "locale.setlocale(locale.LC_ALL, \"en_US.UTF-8\")\n",
    "locale.currency(int(20000), grouping=True)[:-3]"
   ]
  }
 ],
 "metadata": {
  "kernelspec": {
   "display_name": "lenv",
   "language": "python",
   "name": "python3"
  },
  "language_info": {
   "codemirror_mode": {
    "name": "ipython",
    "version": 3
   },
   "file_extension": ".py",
   "mimetype": "text/x-python",
   "name": "python",
   "nbconvert_exporter": "python",
   "pygments_lexer": "ipython3",
   "version": "3.11.11"
  }
 },
 "nbformat": 4,
 "nbformat_minor": 2
}
