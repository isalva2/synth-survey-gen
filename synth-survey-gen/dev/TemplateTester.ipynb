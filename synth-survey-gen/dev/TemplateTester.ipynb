{
 "cells": [
  {
   "cell_type": "markdown",
   "metadata": {},
   "source": [
    "Run this cell to initialize population synthesis"
   ]
  },
  {
   "cell_type": "code",
   "execution_count": null,
   "metadata": {},
   "outputs": [],
   "source": [
    "import sys\n",
    "import os\n",
    "from types import SimpleNamespace\n",
    "sys.path.append(os.path.abspath(\"..\"))\n",
    "\n",
    "from synthesize import *\n",
    "from preprocess import *\n",
    "\n",
    "test_on = \"lyon\"\n",
    "\n",
    "if test_on == \"lyon\":\n",
    "    config_folder = \"../configs/Lyon\"\n",
    "    ploc = None\n",
    "elif test_on == \"chicago\":\n",
    "    config_folder = \"../configs/Chicago\"\n",
    "    ploc = puma_locations(config_folder)\n",
    "\n",
    "model_conf, synth_conf, survey_conf, analysis = load_config(config_folder=config_folder)\n",
    "\n",
    "# namespace for synth configuration\n",
    "synth = SimpleNamespace(**synth_conf)\n",
    "n = synth.sample_size\n",
    "subsample = synth.subsample\n",
    "batch_size = synth.batch_size\n",
    "source = synth.source\n",
    "shuffle_response = synth.shuffle_response\n",
    "shuffle_prompt = synth.shuffle_response\n",
    "wrap = synth.wrap\n",
    "read_from_dataset = synth.read_from_dataset\n",
    "\n",
    "# person = process_pums_data(config_folder)\n",
    "if test_on == \"lyon\":\n",
    "    person = process_insee_census(config_folder=config_folder)\n",
    "else:\n",
    "    person = process_pums_data(config_folder = config_folder)\n",
    "\n",
    "population_sample = synthesize_population(\n",
    "    config_folder=config_folder, n_sample=5000, min_age=18, max_age=65, random_state=2,\n",
    "    source=source,\n",
    "    read_from_dataset=read_from_dataset\n",
    ")\n",
    "\n",
    "year = 2019\n",
    "\n",
    "output = []\n",
    "attribute_descriptions = get_attribute_descriptions(person)"
   ]
  },
  {
   "cell_type": "code",
   "execution_count": null,
   "metadata": {},
   "outputs": [],
   "source": [
    "from collections import Counter\n",
    "\n",
    "smg = SystemMessageGenerator(\n",
    "    config_folder,\n",
    "    \"SystemMessage.j2\",\n",
    "    verbose_debug=False,\n",
    "    shuffle=False,\n",
    "    wrap=80\n",
    "    )\n",
    "\n",
    "msg = []\n",
    "for i, individual in population_sample.reset_index().iterrows():\n",
    "    individual_attributes = attribute_decoder_dict(individual.to_dict(), person)\n",
    "    system_message = smg.write_system_message(**individual_attributes, **attribute_descriptions, ploc=ploc, YEAR=year)\n",
    "    print(system_message+\"\\n\")"
   ]
  },
  {
   "cell_type": "code",
   "execution_count": null,
   "metadata": {},
   "outputs": [],
   "source": [
    "var = \"MOCO\"\n",
    "\n",
    "counts = population_sample[var].value_counts()\n",
    "print(counts)\n",
    "\n",
    "responses = person.get(var)\n",
    "responses"
   ]
  },
  {
   "cell_type": "code",
   "execution_count": null,
   "metadata": {},
   "outputs": [],
   "source": [
    "var = \"STATR\"\n",
    "\n",
    "counts = population_sample[var].value_counts()\n",
    "print(counts)\n",
    "\n",
    "responses = person.get(var)\n",
    "responses"
   ]
  },
  {
   "cell_type": "code",
   "execution_count": null,
   "metadata": {},
   "outputs": [],
   "source": [
    "population_sample.groupby(\"TACT\")[\"STATR\"].value_counts()"
   ]
  }
 ],
 "metadata": {
  "kernelspec": {
   "display_name": "lenv (3.11.11)",
   "language": "python",
   "name": "python3"
  },
  "language_info": {
   "codemirror_mode": {
    "name": "ipython",
    "version": 3
   },
   "file_extension": ".py",
   "mimetype": "text/x-python",
   "name": "python",
   "nbconvert_exporter": "python",
   "pygments_lexer": "ipython3",
   "version": "3.11.11"
  }
 },
 "nbformat": 4,
 "nbformat_minor": 2
}
