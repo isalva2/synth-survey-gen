{
 "cells": [
  {
   "cell_type": "markdown",
   "metadata": {},
   "source": [
    "Run this cell to initialize population synthesis"
   ]
  },
  {
   "cell_type": "code",
   "execution_count": null,
   "metadata": {},
   "outputs": [],
   "source": [
    "import sys\n",
    "import os\n",
    "sys.path.append(os.path.abspath(\"..\"))\n",
    "\n",
    "from synthesize import *\n",
    "from preprocess import *\n",
    "\n",
    "\n",
    "config_folder = \"../configs/Chicago\"\n",
    "n = 100\n",
    "\n",
    "person = process_pums_data(config_folder)\n",
    "population_sample = synthesize_population(\n",
    "    config_folder=config_folder, n_sample=n, min_age=16, random_state=1\n",
    ")\n",
    "ploc = puma_locations(config_folder)"
   ]
  },
  {
   "cell_type": "markdown",
   "metadata": {},
   "source": [
    "Run this cell to initalize template generation"
   ]
  },
  {
   "cell_type": "code",
   "execution_count": null,
   "metadata": {},
   "outputs": [],
   "source": [
    "smg = SystemMessageGenerator(config_folder, \"SystemMessage.j2\", verbose_debug=True)\n",
    "year = 2015\n",
    "\n",
    "output = []\n",
    "attribute_descriptions = get_attribute_descriptions(person)\n",
    "for i, individual in population_sample.reset_index().iterrows():\n",
    "    individual_attributes = attribute_decoder_dict(individual.to_dict(), person)\n",
    "    system_message = smg.write_system_message(**individual_attributes, **attribute_descriptions, ploc=ploc, YEAR=year)\n",
    "    print(system_message,\"\\n\")\n"
   ]
  }
 ],
 "metadata": {
  "kernelspec": {
   "display_name": "venv",
   "language": "python",
   "name": "python3"
  },
  "language_info": {
   "codemirror_mode": {
    "name": "ipython",
    "version": 3
   },
   "file_extension": ".py",
   "mimetype": "text/x-python",
   "name": "python",
   "nbconvert_exporter": "python",
   "pygments_lexer": "ipython3",
   "version": "3.12.6"
  }
 },
 "nbformat": 4,
 "nbformat_minor": 2
}
