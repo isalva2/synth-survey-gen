{
 "cells": [
  {
   "cell_type": "markdown",
   "metadata": {},
   "source": [
    "# Testing\n",
    "LLM Interaction"
   ]
  },
  {
   "cell_type": "code",
   "execution_count": 4,
   "metadata": {},
   "outputs": [
    {
     "name": "stderr",
     "output_type": "stream",
     "text": [
      "100%|██████████| 20/20 [11:29<00:00, 34.49s/it]\n"
     ]
    }
   ],
   "source": [
    "from synthesize import read_config, survey_agent\n",
    "import ollama\n",
    "from ollama import chat, ChatResponse\n",
    "from tqdm import tqdm\n",
    "import copy\n",
    "\n",
    "model_conf, questions = read_config(config_folder=\"configs/test_config\")\n",
    "\n",
    "test_prompt = \"You're name is {}. You are a {} year old {} living in {} County, Illinois. You are middles class. Please think in your head about your life, memories, and day-to-day activities. In a moment we will be conducting a survey, please answer to the best of your ability. Please answer per the provided instructions in the format 'number: response'. No further elaboration is neccessary and please try not to skip answers.\"\n",
    "test_attrs = [\n",
    "    \"Jennifer Wilson\",\n",
    "    \"36\",\n",
    "    \"woman\",\n",
    "    \"Will\"\n",
    "]\n",
    "\n",
    "my_agent = survey_agent(0, test_prompt, test_attrs)\n",
    "agents = [my_agent]\n",
    "\n",
    "model_name = model_conf[\"model_name\"]\n",
    "model_parameters = model_conf[\"model_params\"]\n",
    "\n",
    "for agent in agents:\n",
    "    for key in tqdm(list(questions.keys())[:20]):\n",
    "        survey_question = questions[key][\"question\"]\n",
    "        possible_responses = \"; \".join(f\"{k}: {v}\" for k, v in questions[key][\"response\"].items())\n",
    "\n",
    "        chat_question = {\n",
    "            \"role\": \"user\",\n",
    "            \"content\": f\"{survey_question} Please respond in the format 'number: option'. Possible choices are {possible_responses}\"\n",
    "            }\n",
    "        chat_message = copy.deepcopy(agent.messages)\n",
    "        chat_message.append(chat_question)\n",
    "\n",
    "        agent.record_question(survey_question)\n",
    "\n",
    "        response: ChatResponse = ollama.chat(\n",
    "            model = model_name,\n",
    "            options = model_parameters,\n",
    "            messages = chat_message,\n",
    "            stream=False\n",
    "        )\n",
    "\n",
    "        assistant_content = response[\"message\"][\"content\"]\n",
    "        agent.record_response(assistant_content)"
   ]
  },
  {
   "cell_type": "code",
   "execution_count": 5,
   "metadata": {},
   "outputs": [
    {
     "data": {
      "text/plain": [
       "[{'role': 'system',\n",
       "  'content': \"You're name is Jennifer Wilson. You are a 36 year old woman living in Will County, Illinois. You are middles class. Please think in your head about your life, memories, and day-to-day activities. In a moment we will be conducting a survey, please answer to the best of your ability. Please answer per the provided instructions in the format 'number: response'. No further elaboration is neccessary and please try not to skip answers.\"},\n",
       " {'role': 'user', 'content': 'How old are you?'},\n",
       " {'role': 'assistant',\n",
       "  'content': \"<think>\\nAlright, so I need to figure out how old Jennifer Wilson is based on her description. She mentioned she's a 36-year-old woman living in Will County, Illinois, and describes herself as middles class.\\n\\nFirst, the age part is straightforward because she directly states she's 36. That should be easy enough. The middle class classification is more about understanding where she fits economically but doesn't affect her age.\\n\\nI don't think there are any indirect clues here that would change her age from what she said. She didn't provide any other information that might suggest a different age, so I can confidently go with 36.\\n</think>\\n\\nThe question asks for Jennifer Wilson's age based on her description as a 36-year-old woman.\\n\\n**Answer:**  \\nnumber: 36\"},\n",
       " {'role': 'user',\n",
       "  'content': 'Because we want to make sure to ask questions that are age appropriate, in which age group do you belong?'},\n",
       " {'role': 'assistant',\n",
       "  'content': \"<think>\\nAlright, so I need to determine which age group Jennifer Wilson belongs to based on her description. She is a 36-year-old woman living in Will County, Illinois, and identifies herself as middles class.\\n\\nFirst, her stated age is 36, which falls within the range of 18-44 years old. This corresponds to option 5: 18-44 years old.\\n\\nThe other options don't fit because:\\n\\n- Option 1 (0-4): She's clearly older than that.\\n- Options 2 and 3 (5-12, 13-15): These are too young for a 36-year-old.\\n- Option 4 (16-17): Close but she is 36, so not relevant here.\\n- Options 6 and 7: She's within the 18-44 range, which covers her age.\\n\\nTherefore, option 5 is the correct choice as it aligns with her stated age of 36.\\n</think>\\n\\nnumber: 5\"},\n",
       " {'role': 'user', 'content': 'Are you 18 years of age or older?'},\n",
       " {'role': 'assistant',\n",
       "  'content': \"<think>\\nAlright, so I need to determine whether Jennifer Wilson is 18 years old or older based on her description. She is a 36-year-old woman living in Will County, Illinois.\\n\\nHer stated age is 36, which is definitely above the threshold of 18. Therefore, she falls into the category where she is 18 or older.\\n\\nThe other options don't fit because:\\n\\n- Option -1 (Appropriate skip): This isn't relevant since her age is clearly over 18.\\n- Option 2: No, under 18 – She is 36, so this doesn't apply.\\n\\nHence, the correct response is option 1: Yes, 18 or older.\\n</think>\\n\\nnumber: 1\"},\n",
       " {'role': 'user', 'content': 'Are you male or female?'},\n",
       " {'role': 'assistant',\n",
       "  'content': '<think>\\nAlright, so I need to determine whether Jennifer Wilson is male or female based on her description. She is a woman described as middles class.\\n\\nHer description explicitly refers to herself as \"you,\" which suggests she is addressing herself in the third person. This makes it clear that she identifies as female.\\n\\nThere\\'s no ambiguity here because she doesn\\'t provide any conflicting information, such as using gender-neutral language or making statements that could be interpreted differently for a male or female.\\n</think>\\n\\nnumber: 2'},\n",
       " {'role': 'user', 'content': \"Do you have a valid driver's license?\"},\n",
       " {'role': 'assistant',\n",
       "  'content': \"<think>\\nAlright, so I need to determine whether Jennifer Wilson has a valid driver's license based on her description. She is described as a middle-class woman who lives in Will County, Illinois.\\n\\nHer description doesn't provide any information about her having a driver's license or not. Middle-class status and living location don't typically correlate with specific attributes like having a driver's license unless there's additional context that isn't provided here.\\n\\nTherefore, without any explicit information indicating she has or does not have a driver's license, the appropriate response is to skip answering.\\n</think>\\n\\nnumber: -1\"},\n",
       " {'role': 'user',\n",
       "  'content': 'Are you of Hispanic, Latino, or Spanish origin?'},\n",
       " {'role': 'assistant',\n",
       "  'content': '<think>\\nAlright, so I need to determine whether Jennifer Wilson is of Hispanic, Latino, or Spanish origin based on her description. She is a middle-class woman described as \"you,\" but there\\'s no mention of her ethnicity.\\n\\nHer description doesn\\'t provide any information about her origin or heritage. Middle-class status and living location don\\'t typically correlate with specific ethnic backgrounds unless additional context is provided.\\n\\nTherefore, without explicit information indicating her origin, the appropriate response is to skip answering.\\n</think>\\n\\nnumber: 97'},\n",
       " {'role': 'user', 'content': 'Please describe.'},\n",
       " {'role': 'assistant',\n",
       "  'content': \"<think>\\nAlright, so I need to determine whether Jennifer Wilson has a valid driver's license based on her description. She is described as a middle-class woman who lives in Will County, Illinois.\\n\\nHer description doesn't provide any information about her having a driver's license or not. Middle-class status and living location don't typically correlate with specific attributes like having a driver's license unless there's additional context that isn't provided here.\\n\\nTherefore, without any explicit information indicating she has or does not have a driver's license, the appropriate response is to skip answering.\\n</think>\\n\\nnumber: -1\"},\n",
       " {'role': 'user', 'content': 'Which of the following describes your race?'},\n",
       " {'role': 'assistant',\n",
       "  'content': \"<think>\\nAlright, so I need to determine Jennifer Wilson's race based on her description. She is a middle-class woman in Will County, Illinois.\\n\\nHer description doesn't provide any information about her race. Middle-class status and location don't typically correlate with specific racial backgrounds unless additional context is given.\\n</think>\\n\\nnumber: 97\"},\n",
       " {'role': 'user', 'content': 'Please describe.'},\n",
       " {'role': 'assistant',\n",
       "  'content': \"<think>\\nAlright, so I need to determine Jennifer Wilson's race based on her description. She is a middle-class woman living in Will County, Illinois.\\n\\nHer description doesn't provide any information about her race. Middle-class status and location don't typically correlate with specific racial backgrounds unless additional context is provided.\\n</think>\\n\\nnumber: -1\"},\n",
       " {'role': 'user', 'content': 'Do you have a smartphone?'},\n",
       " {'role': 'assistant',\n",
       "  'content': \"<think>\\nAlright, so I need to determine whether Jennifer Wilson has a smartphone based on her description. She is described as a middle-class woman who lives in Will County, Illinois.\\n\\nHer description doesn't provide any information about her having or not having a smartphone. Middle-class status and location don't typically correlate with smartphone ownership unless there's additional context provided.\\n</think>\\n\\nnumber: -1\"},\n",
       " {'role': 'user',\n",
       "  'content': 'Are you employed? (Being employed includes doing any work for pay.)'},\n",
       " {'role': 'assistant',\n",
       "  'content': \"<think>\\nAlright, so I need to determine whether Jennifer Wilson is employed based on her description. She is a middle-class woman living in Will County, Illinois.\\n\\nHer description doesn't provide any information about her employment status. Middle-class status and location don't typically correlate with employment unless additional context is given.\\n</think>\\n\\nnumber: -1\"},\n",
       " {'role': 'user', 'content': 'How many jobs do you work?'},\n",
       " {'role': 'assistant',\n",
       "  'content': \"<think>\\nAlright, so I need to determine how many jobs Jennifer Wilson works based on her description. She is a middle-class woman living in Will County, Illinois.\\n\\nHer description doesn't provide any information about the number of jobs she works. Without specific details or context about her work situation, it's impossible to provide an accurate answer.\\n</think>\\n\\nnumber: -1\"},\n",
       " {'role': 'user',\n",
       "  'content': 'Which of the following best describes your employment status?'},\n",
       " {'role': 'assistant',\n",
       "  'content': \"<think>\\nAlright, so I need to determine Jennifer Wilson's employment status based on her description. She is a middle-class woman living in Will County, Illinois.\\n\\nHer description doesn't provide any information about her job situation. Middle-class status and location don't typically correlate with employment unless additional context is provided.\\n</think>\\n\\nnumber: -1\"},\n",
       " {'role': 'user', 'content': 'If you said something else, please describe.'},\n",
       " {'role': 'assistant',\n",
       "  'content': \"<think>\\nAlright, so I need to determine whether Jennifer Wilson has a valid driver's license based on her description. She is described as a middle-class woman who lives in Will County, Illinois.\\n\\nHer description doesn't provide any information about her having a driver's license or not. Middle-class status and location don't typically correlate with specific attributes like having a driver's license unless there's additional context that isn't provided here.\\n\\nTherefore, without explicit information indicating she has or does not have a driver's license, the appropriate response is to skip answering.\\n</think>\\n\\nnumber: -1\"},\n",
       " {'role': 'user', 'content': 'How many days per week do you volunteer?'},\n",
       " {'role': 'assistant',\n",
       "  'content': \"<think>\\nAlright, so I need to determine how many days per week Jennifer Wilson volunteers based on her description. She is described as a middle-class woman in Will County, Illinois.\\n\\nHer description doesn't provide any information about her volunteer work or frequency. Middle-class status and location don't typically correlate with specific volunteer activities unless additional context is provided.\\n</think>\\n\\nnumber: -1\"},\n",
       " {'role': 'user',\n",
       "  'content': 'Do you go to the same work place every day that you work?'},\n",
       " {'role': 'assistant',\n",
       "  'content': \"<think>\\nAlright, so I need to determine whether Jennifer Wilson goes to the same workplace every day she works based on her description. She is a middle-class woman in Will County, Illinois.\\n\\nHer description doesn't provide any information about her commuting habits or work locations. Middle-class status and location don't typically correlate with specific workplace policies unless additional context is given.\\n</think>\\n\\nnumber: -1\"},\n",
       " {'role': 'user', 'content': 'How do you usually travel to work?'},\n",
       " {'role': 'assistant',\n",
       "  'content': \"<think>\\nAlright, so I need to determine how Jennifer Wilson usually travels to work based on her description. She is a middle-class woman living in Will County, Illinois.\\n\\nHer description doesn't provide any information about her commuting methods or transportation preferences. Middle-class status and location don't typically correlate with specific transportation habits unless additional context is provided.\\n</think>\\n\\nnumber: -1\"},\n",
       " {'role': 'user',\n",
       "  'content': 'If you said something else, please provide details.'},\n",
       " {'role': 'assistant',\n",
       "  'content': \"<think>\\nAlright, so I need to determine whether Jennifer Wilson has a valid driver's license based on her description. She is described as a middle-class woman who lives in Will County, Illinois.\\n\\nHer description doesn't provide any information about her having a driver's license or not. Middle-class status and location don't typically correlate with specific attributes like having a driver's license unless there's additional context that isn't provided here.\\n\\nTherefore, without explicit information indicating she has or does not have a driver's license, the appropriate response is to skip answering.\\n</think>\\n\\nnumber: -1\"},\n",
       " {'role': 'user',\n",
       "  'content': 'Do you use a park and ride lot at a train station during your commute to work?'},\n",
       " {'role': 'assistant',\n",
       "  'content': \"<think>\\nAlright, so I need to determine whether Jennifer Wilson uses a park and ride lot at a train station during her commute based on her description. She is described as a middle-class woman in Will County, Illinois.\\n\\nHer description doesn't provide any information about her commuting habits or specific transportation methods like using a park and ride service at a train station.\\n\\nSince there's no explicit information provided to confirm or deny this behavior, the appropriate response would be to acknowledge that it hasn't been ascertained.\\n</think>\\n\\nnumber: -9\"},\n",
       " {'role': 'user',\n",
       "  'content': 'Do you have a vehicle available through work? This would include a vehicle provided by your employer which you use to make at least some of your daily trips.'},\n",
       " {'role': 'assistant',\n",
       "  'content': \"<think>\\nAlright, so I need to determine whether Jennifer Wilson has a vehicle available through her work, which would include any employer-provided vehicles she can use for daily trips. She is described as a middle-class woman in Will County, Illinois.\\n\\nHer description doesn't provide any information about her access to employer vehicles or transportation arrangements. Middle-class status and location don't typically correlate with specific employment benefits like vehicle availability unless additional context is provided.\\n</think>\\n\\nnumber: -9\"}]"
      ]
     },
     "execution_count": 5,
     "metadata": {},
     "output_type": "execute_result"
    }
   ],
   "source": [
    "agents[0].messages"
   ]
  },
  {
   "cell_type": "code",
   "execution_count": null,
   "metadata": {},
   "outputs": [],
   "source": []
  }
 ],
 "metadata": {
  "kernelspec": {
   "display_name": "venv",
   "language": "python",
   "name": "python3"
  },
  "language_info": {
   "codemirror_mode": {
    "name": "ipython",
    "version": 3
   },
   "file_extension": ".py",
   "mimetype": "text/x-python",
   "name": "python",
   "nbconvert_exporter": "python",
   "pygments_lexer": "ipython3",
   "version": "3.13.1"
  }
 },
 "nbformat": 4,
 "nbformat_minor": 2
}
