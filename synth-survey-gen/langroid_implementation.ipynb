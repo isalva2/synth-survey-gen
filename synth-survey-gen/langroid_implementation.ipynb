{
 "cells": [
  {
   "cell_type": "markdown",
   "metadata": {},
   "source": [
    "# Langroid Implementation\n",
    "\n",
    "langroid:\n",
    "tokenizer: https://github.com/simonw/ttok/issues/8"
   ]
  },
  {
   "cell_type": "code",
   "execution_count": null,
   "metadata": {},
   "outputs": [],
   "source": [
    "import langroid.language_models as lm\n",
    "import langroid as lr\n",
    "\n",
    "# example interactive session\n",
    "llm_config = lm.OpenAIGPTConfig(\n",
    "    chat_model=\"ollama/llama2:latest\",\n",
    "    chat_context_length=16_000, # adjust based on model\n",
    ")\n",
    "agent_config = lr.ChatAgentConfig(\n",
    "    llm=llm_config,\n",
    "    system_message=\"You are helpful but concise\",\n",
    ")\n",
    "agent = lr.ChatAgent(agent_config)\n",
    "# directly invoke agent's llm_response method\n",
    "# response = agent.llm_response(\"What is the capital of Russia?\")\n",
    "task = lr.Task(agent, interactive=True)\n",
    "task.run() # for an interactive chat loop"
   ]
  },
  {
   "cell_type": "code",
   "execution_count": null,
   "metadata": {},
   "outputs": [],
   "source": [
    "with open(\"private/hf-key\", \"r\") as f:\n",
    "    key = f.read().rstrip(\"\\n\")\n",
    "import tokenizers\n",
    "from tokenizers import Tokenizer\n",
    "\n",
    "tokenizer = Tokenizer.from_pretrained(\"meta-llama/Llama-3.2-1B-Instruct\", token=key)"
   ]
  },
  {
   "cell_type": "code",
   "execution_count": 4,
   "metadata": {},
   "outputs": [],
   "source": [
    "import langroid as lr\n",
    "import langroid.language_models as lm\n",
    "\n",
    "from typing import Dict\n",
    "from langroid.utils.configuration import set_global\n",
    "from langroid.agent.chat_document import ChatDocument\n",
    "\n",
    "# set_global(\"openai-function-calling\", True)\n",
    "\n",
    "def _select_choice(questions: Dict[str,str])->str:\n",
    "    return list(questions.keys())[0]\n",
    "\n",
    "llm_config = lm.OpenAIGPTConfig(\n",
    "    chat_model=\"ollama/llama3.2\",\n",
    "    chat_context_length =20_000\n",
    ")\n",
    "\n",
    "agent_config = lr.ChatAgentConfig(\n",
    "    llm=llm_config,\n",
    "    system_message=\"You are a 25 year old athletic woman. Please answer the following questions.\",\n",
    ")\n",
    "\n",
    "questions = {\n",
    "    \"-8\": \"I don't know\",\n",
    "    \"-7\": \"I prefer not to answer\",\n",
    "    \"-1\": \"Appropriate skip\",\n",
    "    \"1\": \"1 day a week\",\n",
    "    \"2\": \"2 days a week\",\n",
    "    \"3\": \"3 days a week\",\n",
    "    \"4\": \"4 days a week\",\n",
    "    \"5\": \"5 days a week\",\n",
    "    \"6\": \"6 days a week\",\n",
    "    \"7\": \"7 days a week\"\n",
    "}\n",
    "\n",
    "from typing import List, Optional\n",
    "import langroid as lr\n",
    "from langroid.agent.tool_message import ToolMessage\n",
    "import langroid.language_models as lm\n",
    "\n",
    "llm_config = lm.OpenAIGPTConfig(\n",
    "    chat_model = \"ollama/llama2\",\n",
    "    chat_context_length=16_00\n",
    ")\n",
    "\n",
    "config = lr.ChatAgentConfig(\n",
    "    llm=llm_config,\n",
    "    system_message=\"You are a 25 year old athletic female. Please answer the following survey questions related to fitness.\"\n",
    ")\n",
    "\n",
    "class SurveyQuestionTool(lr.agent.ToolMessage):\n",
    "    request: str = \"answerQuestion\"\n",
    "    purpose: str = \"\"\"\n",
    "        To answer the provided survey question with an <answer_index>.\n",
    "        Only respond with the index of the question.\n",
    "        \"\"\"\n",
    "    answer_index: int\n",
    "\n",
    "    # @classmethod\n",
    "    # def examples(cls) -> List[\"ToolMessage\"]:\n",
    "    #     pass\n",
    "\n",
    "\n",
    "class SurveyAgent(lr.ChatAgent):\n",
    "    def __init__(self, config: lr.ChatAgentConfig):\n",
    "        super().__init__(config)\n",
    "        self.tool_expected = False\n",
    "        self.answersIndices = []\n",
    "        self.answers = []\n",
    "\n",
    "    def answerQuestion(self, msg: SurveyQuestionTool):\n",
    "        self.user_response(f\"How often do you work out per week? {questions}\")\n",
    "        return msg.answer_index\n",
    "\n",
    "    def llm_response(\n",
    "        self, message: Optional[str | ChatDocument] = None\n",
    "    ) -> Optional[ChatDocument]:\n",
    "        self.tool_expected = True\n",
    "        return super().llm_response(message)\n",
    "\n",
    "    def user_response(\n",
    "        self,\n",
    "        msg: Optional[str | ChatDocument] = None,\n",
    "    ) -> Optional[ChatDocument]:\n",
    "        self.tool_expected = False\n",
    "        return super().user_response(msg)\n",
    "\n",
    "agent = SurveyAgent(config=config)\n",
    "agent.enable_message(SurveyQuestionTool)\n"
   ]
  },
  {
   "cell_type": "code",
   "execution_count": 16,
   "metadata": {},
   "outputs": [
    {
     "data": {
      "text/html": [
       "<pre style=\"white-space:pre;overflow-x:auto;line-height:normal;font-family:Menlo,'DejaVu Sans Mono',consolas,'Courier New',monospace\"></pre>\n"
      ],
      "text/plain": []
     },
     "metadata": {},
     "output_type": "display_data"
    },
    {
     "name": "stdout",
     "output_type": "stream",
     "text": [
      "\u001b[32m\u001b[32m1"
     ]
    },
    {
     "data": {
      "text/html": [
       "<pre style=\"white-space:pre;overflow-x:auto;line-height:normal;font-family:Menlo,'DejaVu Sans Mono',consolas,'Courier New',monospace\">\n",
       "</pre>\n"
      ],
      "text/plain": [
       "\n"
      ]
     },
     "metadata": {},
     "output_type": "display_data"
    },
    {
     "data": {
      "text/html": [
       "<pre style=\"white-space:pre;overflow-x:auto;line-height:normal;font-family:Menlo,'DejaVu Sans Mono',consolas,'Courier New',monospace\"><span style=\"font-weight: bold\">Stats:</span> <span style=\"color: #800080; text-decoration-color: #800080\">N_MSG</span><span style=\"color: #800080; text-decoration-color: #800080\">=</span><span style=\"color: #800080; text-decoration-color: #800080; font-weight: bold\">8</span><span style=\"color: #800080; text-decoration-color: #800080\">, TOKENS: </span><span style=\"color: #800080; text-decoration-color: #800080\">in</span><span style=\"color: #800080; text-decoration-color: #800080\">=</span><span style=\"color: #800080; text-decoration-color: #800080; font-weight: bold\">290</span><span style=\"color: #800080; text-decoration-color: #800080\">, </span><span style=\"color: #800080; text-decoration-color: #800080\">out</span><span style=\"color: #800080; text-decoration-color: #800080\">=</span><span style=\"color: #800080; text-decoration-color: #800080; font-weight: bold\">2</span><span style=\"color: #800080; text-decoration-color: #800080\">, </span><span style=\"color: #800080; text-decoration-color: #800080\">max</span><span style=\"color: #800080; text-decoration-color: #800080\">=</span><span style=\"color: #800080; text-decoration-color: #800080; font-weight: bold\">8192</span><span style=\"color: #800080; text-decoration-color: #800080\">, </span><span style=\"color: #800080; text-decoration-color: #800080\">ctx</span><span style=\"color: #800080; text-decoration-color: #800080\">=</span><span style=\"color: #800080; text-decoration-color: #800080; font-weight: bold\">1600</span><span style=\"color: #800080; text-decoration-color: #800080\">, COST: </span><span style=\"color: #800080; text-decoration-color: #800080\">now</span><span style=\"color: #800080; text-decoration-color: #800080\">=$</span><span style=\"color: #800080; text-decoration-color: #800080; font-weight: bold\">0.0000</span><span style=\"color: #800080; text-decoration-color: #800080\">, </span><span style=\"color: #800080; text-decoration-color: #800080\">cumul</span><span style=\"color: #800080; text-decoration-color: #800080\">=$</span><span style=\"color: #800080; text-decoration-color: #800080; font-weight: bold\">0.0000</span><span style=\"color: #800080; text-decoration-color: #800080\">, </span><span style=\"color: #800080; text-decoration-color: #800080\">tot</span><span style=\"color: #800080; text-decoration-color: #800080\">=$</span><span style=\"color: #800080; text-decoration-color: #800080; font-weight: bold\">0.0000</span><span style=\"color: #800080; text-decoration-color: #800080\"> </span><span style=\"color: #800080; text-decoration-color: #800080; font-weight: bold\">(llama2)</span>\n",
       "</pre>\n"
      ],
      "text/plain": [
       "\u001b[1mStats:\u001b[0m \u001b[35mN_MSG\u001b[0m\u001b[35m=\u001b[0m\u001b[1;35m8\u001b[0m\u001b[35m, TOKENS: \u001b[0m\u001b[35min\u001b[0m\u001b[35m=\u001b[0m\u001b[1;35m290\u001b[0m\u001b[35m, \u001b[0m\u001b[35mout\u001b[0m\u001b[35m=\u001b[0m\u001b[1;35m2\u001b[0m\u001b[35m, \u001b[0m\u001b[35mmax\u001b[0m\u001b[35m=\u001b[0m\u001b[1;35m8192\u001b[0m\u001b[35m, \u001b[0m\u001b[35mctx\u001b[0m\u001b[35m=\u001b[0m\u001b[1;35m1600\u001b[0m\u001b[35m, COST: \u001b[0m\u001b[35mnow\u001b[0m\u001b[35m=$\u001b[0m\u001b[1;35m0.0000\u001b[0m\u001b[35m, \u001b[0m\u001b[35mcumul\u001b[0m\u001b[35m=$\u001b[0m\u001b[1;35m0.0000\u001b[0m\u001b[35m, \u001b[0m\u001b[35mtot\u001b[0m\u001b[35m=$\u001b[0m\u001b[1;35m0.0000\u001b[0m\u001b[35m \u001b[0m\u001b[1;35m(\u001b[0m\u001b[1;35mllama2\u001b[0m\u001b[1;35m)\u001b[0m\n"
      ]
     },
     "metadata": {},
     "output_type": "display_data"
    }
   ],
   "source": [
    "response = agent.llm_response(\"how are you\")"
   ]
  },
  {
   "cell_type": "code",
   "execution_count": 18,
   "metadata": {},
   "outputs": [
    {
     "data": {
      "text/html": [
       "<pre style=\"white-space:pre;overflow-x:auto;line-height:normal;font-family:Menlo,'DejaVu Sans Mono',consolas,'Courier New',monospace\"><span style=\"color: #000080; text-decoration-color: #000080\">Human (respond or q, x to exit current level, or hit enter to continue)</span>\n",
       ": </pre>\n"
      ],
      "text/plain": [
       "\u001b[34mHuman (respond or q, x to exit current level, or hit enter to continue)\u001b[0m\n",
       ": "
      ]
     },
     "metadata": {},
     "output_type": "display_data"
    },
    {
     "data": {
      "text/plain": [
       "ChatDocument(content='tell us about you', metadata=ChatDocMetaData(source='User', source_content='context', is_chunk=False, id='a2ab2e99-1cd9-4f3b-81ce-c84c1177e024', window_ids=[], parent_id='', child_id='', agent_id='', msg_idx=-1, sender=<Entity.USER: 'User'>, oai_tool_id=None, tool_ids=[], block=None, sender_name='', recipient='', usage=None, cached=False, displayed=False, has_citation=False, status=None), reasoning='', content_any=None, oai_tool_calls=None, oai_tool_id2result=None, oai_tool_choice='auto', function_call=None, tool_messages=[], all_tool_messages=[], attachment=None)"
      ]
     },
     "execution_count": 18,
     "metadata": {},
     "output_type": "execute_result"
    }
   ],
   "source": [
    "agent.user_response()"
   ]
  },
  {
   "cell_type": "code",
   "execution_count": 12,
   "metadata": {},
   "outputs": [
    {
     "data": {
      "text/plain": [
       "ChatDocument(content='how are ou', metadata=ChatDocMetaData(source='User', source_content='context', is_chunk=False, id='05f8a52c-8d34-4ba7-a71a-85b33aba4116', window_ids=[], parent_id='', child_id='', agent_id='', msg_idx=-1, sender=<Entity.USER: 'User'>, oai_tool_id=None, tool_ids=[], block=None, sender_name='', recipient='', usage=None, cached=False, displayed=False, has_citation=False, status=None), reasoning='', content_any=None, oai_tool_calls=None, oai_tool_id2result=None, oai_tool_choice='auto', function_call=None, tool_messages=[], all_tool_messages=[], attachment=None)"
      ]
     },
     "execution_count": 12,
     "metadata": {},
     "output_type": "execute_result"
    }
   ],
   "source": [
    "response"
   ]
  },
  {
   "cell_type": "code",
   "execution_count": null,
   "metadata": {},
   "outputs": [],
   "source": [
    "\n",
    "task = lr.Task(agent, interactive=True)\n",
    "task.run()"
   ]
  },
  {
   "cell_type": "code",
   "execution_count": 3,
   "metadata": {},
   "outputs": [
    {
     "data": {
      "text/plain": [
       "[LLMMessage(role=<Role.SYSTEM: 'system'>, name=None, tool_call_id=None, tool_id='', content='You are a 25 year old athletic female. Please answer the following survey questions related to fitness.\\n\\n=== GUIDELINES ON SOME TOOLS/FUNCTIONS USAGE ===\\n            TOOL: answerQuestion:\\n                        GUIDANCE: \\n        IMPORTANT: When using this or any other tool/function, you MUST include a \\n        `request` field and set it equal to the FUNCTION/TOOL NAME you intend to use.\\n\\n\\n\\n\\n\\n\\n=== ALL AVAILABLE TOOLS and THEIR FORMAT INSTRUCTIONS ===\\nYou have access to the following TOOLS to accomplish your task:\\n\\nTOOL: answerQuestion\\n            PURPOSE: \\n        To answer the provided survey question with an <answer_index>.\\n        Only respond with the index of the question.\\n\\n            JSON FORMAT: {\\n    \"type\": \"object\",\\n    \"properties\": {\\n        \"request\": {\\n            \"default\": \"answerQuestion\",\\n            \"type\": \"string\"\\n        },\\n        \"answer_index\": {\\n            \"type\": \"integer\"\\n        }\\n    },\\n    \"required\": [\\n        \"answer_index\",\\n        \"request\"\\n    ],\\n    \"request\": {\\n        \"enum\": [\\n            \"answerQuestion\"\\n        ],\\n        \"type\": \"string\"\\n    }\\n}\\n\\n\\n\\nWhen one of the above TOOLs is applicable, you must express your \\nrequest as \"TOOL:\" followed by the request in the above format.', function_call=None, tool_calls=None, timestamp=datetime.datetime(2025, 3, 20, 14, 12, 17, 221090), chat_document_id=''),\n",
       " LLMMessage(role=<Role.USER: 'user'>, name=None, tool_call_id=None, tool_id='', content='Follow the above instructions.', function_call=None, tool_calls=None, timestamp=datetime.datetime(2025, 3, 20, 14, 8, 55, 432492), chat_document_id=''),\n",
       " LLMMessage(role=<Role.ASSISTANT: 'assistant'>, name='', tool_call_id=None, tool_id='', content='Of course! I\\'m happy to help answer your survey questions related to fitness. Please provide the question you would like me to answer, and I will respond with the appropriate index number.\\n\\nTo use the `answerQuestion` tool, please provide the following format: `TOOL: answerQuestion {request}`. Replace `{request}` with the name of the tool you want to use, such as \"answerQuestion\".', function_call=None, tool_calls=None, timestamp=datetime.datetime(2025, 3, 20, 14, 9, 30, 578212), chat_document_id='6c542f8f-d751-49be-b1e4-b0502a3a9e06'),\n",
       " LLMMessage(role=<Role.USER: 'user'>, name='', tool_call_id=None, tool_id='', content='First tell us a little about yourself', function_call=None, tool_calls=None, timestamp=datetime.datetime(2025, 3, 20, 14, 9, 50, 788932), chat_document_id='506fee92-6bbf-40ee-850d-a2a434781296'),\n",
       " LLMMessage(role=<Role.ASSISTANT: 'assistant'>, name='', tool_call_id=None, tool_id='', content=\"Sure! Here's some information about me:\\n\\nName: Sarah\\nAge: 25\\nGender: Female\\nAthletic level: Athletic\\nFitness goals: To maintain and improve my overall fitness and athleticism through a combination of cardio, strength training, and flexibility exercises.\", function_call=None, tool_calls=None, timestamp=datetime.datetime(2025, 3, 20, 14, 10, 2, 498099), chat_document_id='308fbd0e-ecb4-43fb-8df8-544bc39b992b'),\n",
       " LLMMessage(role=<Role.USER: 'user'>, name='', tool_call_id=None, tool_id='', content='okay, how often do you exercise:     \"-8\": \"I don\\'t know\",     \"-7\": \"I prefer not to answer\",     \"-1\": \"Appropriate skip\",     \"1\": \"1 day a week\",     \"2\": \"2 days a week\",     \"3\": \"3 days a week\",     \"4\": \"4 days a week\",     \"5\": \"5 days a week\",     \"6\": \"6 days a week\",     \"7\": \"7 days a week\"', function_call=None, tool_calls=None, timestamp=datetime.datetime(2025, 3, 20, 14, 10, 36, 376824), chat_document_id='2f8bc25d-0312-4b2f-b49d-8d62be8cc2a8'),\n",
       " LLMMessage(role=<Role.ASSISTANT: 'assistant'>, name='', tool_call_id=None, tool_id='', content='I exercise 5-6 days a week, with a mix of cardio and strength training exercises. My fitness goals are to maintain and improve my overall fitness and athleticism, so I make sure to prioritize exercise in my daily routine.', function_call=None, tool_calls=None, timestamp=datetime.datetime(2025, 3, 20, 14, 10, 49, 854410), chat_document_id='32c44dc9-04d9-4b4e-bbfb-438594e996d9'),\n",
       " LLMMessage(role=<Role.USER: 'user'>, name='', tool_call_id=None, tool_id='', content='please answer the question: how often do you go jogging:     \"-8\": \"I don\\'t know\",     \"-7\": \"I prefer not to answer\",     \"-1\": \"Appropriate skip\",     \"1\": \"1 day a week\",     \"2\": \"2 days a week\",     \"3\": \"3 days a week\",     \"4\": \"4 days a week\",     \"5\": \"5 days a week\",     \"6\": \"6 days a week\",     \"7\": \"7 days a week\"', function_call=None, tool_calls=None, timestamp=datetime.datetime(2025, 3, 20, 14, 11, 8, 629607), chat_document_id='d77fb676-5bc9-49a2-a12a-1ee9fdd11df7'),\n",
       " LLMMessage(role=<Role.ASSISTANT: 'assistant'>, name='', tool_call_id=None, tool_id='', content='I go jogging 3-4 times a week.', function_call=None, tool_calls=None, timestamp=datetime.datetime(2025, 3, 20, 14, 11, 15, 542988), chat_document_id='6cb866fc-17e5-48c7-a136-85c877d15971'),\n",
       " LLMMessage(role=<Role.USER: 'user'>, name='', tool_call_id=None, tool_id='', content='TOOL: answerQuestion how many days per week do you eat out? {     \"-8\": \"I don\\'t know\",     \"-7\": \"I prefer not to answer\",     \"-1\": \"Appropriate skip\",     \"1\": \"1 day a week\",     \"2\": \"2 days a week\",     \"3\": \"3 days a week\",     \"4\": \"4 days a week\",     \"5\": \"5 days a week\",     \"6\": \"6 days a week\",     \"7\": \"7 days a week\" }', function_call=None, tool_calls=None, timestamp=datetime.datetime(2025, 3, 20, 14, 12, 17, 221132), chat_document_id='3ee9e2d5-f3c6-413d-b946-04ec2c7a37a4'),\n",
       " LLMMessage(role=<Role.ASSISTANT: 'assistant'>, name='', tool_call_id=None, tool_id='', content='I eat out 2-3 times a week.', function_call=None, tool_calls=None, timestamp=datetime.datetime(2025, 3, 20, 14, 12, 24, 335901), chat_document_id='f1bd19b4-40c4-4da0-843d-fcfbc4678562')]"
      ]
     },
     "execution_count": 3,
     "metadata": {},
     "output_type": "execute_result"
    }
   ],
   "source": [
    "agent.message_history"
   ]
  }
 ],
 "metadata": {
  "kernelspec": {
   "display_name": "lenv",
   "language": "python",
   "name": "python3"
  },
  "language_info": {
   "codemirror_mode": {
    "name": "ipython",
    "version": 3
   },
   "file_extension": ".py",
   "mimetype": "text/x-python",
   "name": "python",
   "nbconvert_exporter": "python",
   "pygments_lexer": "ipython3",
   "version": "3.11.11"
  }
 },
 "nbformat": 4,
 "nbformat_minor": 2
}
