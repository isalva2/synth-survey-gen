{
 "cells": [
  {
   "cell_type": "markdown",
   "metadata": {},
   "source": [
    "# Langroid Implementation\n",
    "\n",
    "langroid:\n",
    "tokenizer: https://github.com/simonw/ttok/issues/8"
   ]
  },
  {
   "cell_type": "code",
   "execution_count": 1,
   "metadata": {},
   "outputs": [
    {
     "name": "stderr",
     "output_type": "stream",
     "text": [
      "\u001b[33m2025-03-20 18:12:20 - WARNING - REDIS_PASSWORD, REDIS_HOST, REDIS_PORT not set in .env file,\n",
      "                        using fake redis client\u001b[0m\n"
     ]
    }
   ],
   "source": [
    "# with open(\"private/hf-key\", \"r\") as f:\n",
    "#     key = f.read().rstrip(\"\\n\")\n",
    "# import tokenizers\n",
    "# from tokenizers import Tokenizer\n",
    "\n",
    "# tokenizer = Tokenizer.from_pretrained(\"meta-llama/Llama-3.2-1B-Instruct\", token=key)\n",
    "\n",
    "import langroid as lr\n",
    "import langroid.language_models as lm\n",
    "from typing import Dict\n",
    "from langroid.agent.chat_document import ChatDocument\n",
    "\n",
    "\n",
    "def _select_choice(questions: Dict[str,str])->str:\n",
    "    return list(questions.keys())[0]\n",
    "\n",
    "llm_config = lm.OpenAIGPTConfig(\n",
    "    chat_model=\"ollama/llama3.2\",\n",
    "    chat_context_length =20_000\n",
    ")\n",
    "\n",
    "agent_config = lr.ChatAgentConfig(\n",
    "    llm=llm_config,\n",
    "    system_message=\"You are a 25 year old athletic woman. Please answer the following questions.\",\n",
    ")\n",
    "\n",
    "\n",
    "\n",
    "from typing import List, Optional\n",
    "import langroid as lr\n",
    "from langroid.agent.tool_message import ToolMessage\n",
    "import langroid.language_models as lm\n",
    "\n",
    "llm_config = lm.OpenAIGPTConfig(\n",
    "    chat_model = \"ollama/llama3.2\",\n",
    "    chat_context_length=16_00\n",
    ")\n",
    "\n",
    "config = lr.ChatAgentConfig(\n",
    "    name=\"SurveyAgent\",\n",
    "    llm=llm_config,\n",
    "    system_message=\"You are a 25 year old athletic female. Please answer the following survey questions related to fitness.\",\n",
    "    use_tools=True,\n",
    "    use_functions_api=False,\n",
    "    vecdb=None\n",
    ")\n",
    "\n",
    "class singleAnswerTool(lr.ToolMessage):\n",
    "    request: str = \"singleChoiceResponse\"\n",
    "    purpose: str = \"\"\"Please read the provided options and select ONE answer that best applies to you. Only specify the <answer_key>, and not the description.\"\"\"\n",
    "    answer_key: int\n",
    "\n",
    "    @classmethod\n",
    "    def example(cls):\n",
    "        return [\n",
    "            (\n",
    "                'How many times per week do you get groceries? {\\'-8\\': \"I don\\'t know\", \\'-7\\': \\'I prefer not to answer\\', \\'-1\\': \\'Appropriate skip\\', \\'1\\': \\'1 day a week\\', \\'2\\': \\'2 days a week\\', \\'3\\': \\'3 days a week\\', \\'4\\': \\'4 days a week\\', \\'5\\': \\'5 days a week\\', \\'6\\': \\'6 days a week\\', \\'7\\': \\'7 days a week\\'}',\n",
    "                cls(answer_key=1)\n",
    "            )\n",
    "        ]\n",
    "\n",
    "\n",
    "class SurveyAgent(lr.ChatAgent):\n",
    "    def __init__(self, config: lr.ChatAgentConfig):\n",
    "        super().__init__(config)\n",
    "        self.tool_expected = False\n",
    "        self.answersIndices = []\n",
    "        self.answers = []\n",
    "        self.queued_question: dict\n",
    "\n",
    "\n",
    "    def singleChoiceResponse(self, msg: singleAnswerTool ) -> str:\n",
    "        # return a single possible answer from a set of questions\n",
    "        return str(msg.answer_index)\n",
    "\n",
    "\n",
    "\n",
    "    def llm_response(\n",
    "        self, message: Optional[str | ChatDocument] = None\n",
    "    ) -> Optional[ChatDocument]:\n",
    "        self.tool_expected = True\n",
    "        return super().llm_response(message)\n",
    "\n",
    "    def user_response(\n",
    "        self,\n",
    "        msg: Optional[str | ChatDocument] = None,\n",
    "    ) -> Optional[ChatDocument]:\n",
    "        self.tool_expected = False\n",
    "        return super().user_response(msg)\n",
    "\n",
    "agent = SurveyAgent(config=config)\n",
    "agent.enable_message(singleAnswerTool, use=True, handle=True)\n"
   ]
  },
  {
   "cell_type": "code",
   "execution_count": 2,
   "metadata": {},
   "outputs": [],
   "source": [
    "questions = {\n",
    "    \"-8\": \"I don't know\",\n",
    "    \"-7\": \"I prefer not to answer\",\n",
    "    \"-1\": \"Appropriate skip\",\n",
    "    \"1\": \"1 day a week\",\n",
    "    \"2\": \"2 days a week\",\n",
    "    \"3\": \"3 days a week\",\n",
    "    \"4\": \"4 days a week\",\n",
    "    \"5\": \"5 days a week\",\n",
    "    \"6\": \"6 days a week\",\n",
    "    \"7\": \"7 days a week\"\n",
    "}"
   ]
  },
  {
   "cell_type": "code",
   "execution_count": 3,
   "metadata": {},
   "outputs": [
    {
     "data": {
      "text/html": [
       "<pre style=\"white-space:pre;overflow-x:auto;line-height:normal;font-family:Menlo,'DejaVu Sans Mono',consolas,'Courier New',monospace\"></pre>\n"
      ],
      "text/plain": []
     },
     "metadata": {},
     "output_type": "display_data"
    },
    {
     "name": "stdout",
     "output_type": "stream",
     "text": [
      "\u001b[32m\u001b[32mTO\u001b[32mOL\u001b[32m:\u001b[32m single\u001b[32mChoice\u001b[32mResponse\u001b[32m\n",
      "\u001b[32m           \u001b[32m request\u001b[32m:\u001b[32m \"\u001b[32mHow\u001b[32m many\u001b[32m days\u001b[32m per\u001b[32m week\u001b[32m do\u001b[32m you\u001b[32m work\u001b[32m out\u001b[32m?\"\n",
      "\u001b[32m           \u001b[32m answer\u001b[32m_key\u001b[32m:\u001b[32m \u001b[32m3"
     ]
    },
    {
     "data": {
      "text/html": [
       "<pre style=\"white-space:pre;overflow-x:auto;line-height:normal;font-family:Menlo,'DejaVu Sans Mono',consolas,'Courier New',monospace\">\n",
       "</pre>\n"
      ],
      "text/plain": [
       "\n"
      ]
     },
     "metadata": {},
     "output_type": "display_data"
    },
    {
     "data": {
      "text/html": [
       "<pre style=\"white-space:pre;overflow-x:auto;line-height:normal;font-family:Menlo,'DejaVu Sans Mono',consolas,'Courier New',monospace\"><span style=\"font-weight: bold\">Stats:</span> <span style=\"color: #800080; text-decoration-color: #800080\">N_MSG</span><span style=\"color: #800080; text-decoration-color: #800080\">=</span><span style=\"color: #800080; text-decoration-color: #800080; font-weight: bold\">2</span><span style=\"color: #800080; text-decoration-color: #800080\">, TOKENS: </span><span style=\"color: #800080; text-decoration-color: #800080\">in</span><span style=\"color: #800080; text-decoration-color: #800080\">=</span><span style=\"color: #800080; text-decoration-color: #800080; font-weight: bold\">387</span><span style=\"color: #800080; text-decoration-color: #800080\">, </span><span style=\"color: #800080; text-decoration-color: #800080\">out</span><span style=\"color: #800080; text-decoration-color: #800080\">=</span><span style=\"color: #800080; text-decoration-color: #800080; font-weight: bold\">28</span><span style=\"color: #800080; text-decoration-color: #800080\">, </span><span style=\"color: #800080; text-decoration-color: #800080\">max</span><span style=\"color: #800080; text-decoration-color: #800080\">=</span><span style=\"color: #800080; text-decoration-color: #800080; font-weight: bold\">8192</span><span style=\"color: #800080; text-decoration-color: #800080\">, </span><span style=\"color: #800080; text-decoration-color: #800080\">ctx</span><span style=\"color: #800080; text-decoration-color: #800080\">=</span><span style=\"color: #800080; text-decoration-color: #800080; font-weight: bold\">1600</span><span style=\"color: #800080; text-decoration-color: #800080\">, COST: </span><span style=\"color: #800080; text-decoration-color: #800080\">now</span><span style=\"color: #800080; text-decoration-color: #800080\">=$</span><span style=\"color: #800080; text-decoration-color: #800080; font-weight: bold\">0.0000</span><span style=\"color: #800080; text-decoration-color: #800080\">, </span><span style=\"color: #800080; text-decoration-color: #800080\">cumul</span><span style=\"color: #800080; text-decoration-color: #800080\">=$</span><span style=\"color: #800080; text-decoration-color: #800080; font-weight: bold\">0.0000</span><span style=\"color: #800080; text-decoration-color: #800080\">, </span><span style=\"color: #800080; text-decoration-color: #800080\">tot</span><span style=\"color: #800080; text-decoration-color: #800080\">=$</span><span style=\"color: #800080; text-decoration-color: #800080; font-weight: bold\">0.0000</span><span style=\"color: #800080; text-decoration-color: #800080\"> </span>\n",
       "<span style=\"color: #800080; text-decoration-color: #800080; font-weight: bold\">(llama3.</span><span style=\"color: #800080; text-decoration-color: #800080; font-weight: bold\">2</span><span style=\"color: #800080; text-decoration-color: #800080; font-weight: bold\">)</span>\n",
       "</pre>\n"
      ],
      "text/plain": [
       "\u001b[1mStats:\u001b[0m \u001b[35mN_MSG\u001b[0m\u001b[35m=\u001b[0m\u001b[1;35m2\u001b[0m\u001b[35m, TOKENS: \u001b[0m\u001b[35min\u001b[0m\u001b[35m=\u001b[0m\u001b[1;35m387\u001b[0m\u001b[35m, \u001b[0m\u001b[35mout\u001b[0m\u001b[35m=\u001b[0m\u001b[1;35m28\u001b[0m\u001b[35m, \u001b[0m\u001b[35mmax\u001b[0m\u001b[35m=\u001b[0m\u001b[1;35m8192\u001b[0m\u001b[35m, \u001b[0m\u001b[35mctx\u001b[0m\u001b[35m=\u001b[0m\u001b[1;35m1600\u001b[0m\u001b[35m, COST: \u001b[0m\u001b[35mnow\u001b[0m\u001b[35m=$\u001b[0m\u001b[1;35m0.0000\u001b[0m\u001b[35m, \u001b[0m\u001b[35mcumul\u001b[0m\u001b[35m=$\u001b[0m\u001b[1;35m0.0000\u001b[0m\u001b[35m, \u001b[0m\u001b[35mtot\u001b[0m\u001b[35m=$\u001b[0m\u001b[1;35m0.0000\u001b[0m\u001b[35m \u001b[0m\n",
       "\u001b[1;35m(\u001b[0m\u001b[1;35mllama3.\u001b[0m\u001b[1;35m2\u001b[0m\u001b[1;35m)\u001b[0m\n"
      ]
     },
     "metadata": {},
     "output_type": "display_data"
    }
   ],
   "source": [
    "response = agent.llm_response(message=f\"How many days per week do you work out? Please select one of the following: {questions}\")"
   ]
  },
  {
   "cell_type": "code",
   "execution_count": 6,
   "metadata": {},
   "outputs": [
    {
     "data": {
      "text/html": [
       "<pre style=\"white-space:pre;overflow-x:auto;line-height:normal;font-family:Menlo,'DejaVu Sans Mono',consolas,'Courier New',monospace\"></pre>\n"
      ],
      "text/plain": []
     },
     "metadata": {},
     "output_type": "display_data"
    },
    {
     "name": "stdout",
     "output_type": "stream",
     "text": [
      "\u001b[32m\u001b[32mToday\u001b[32m I\u001b[32m'm\u001b[32m feeling\u001b[32m great\u001b[32m,\u001b[32m a\u001b[32m bit\u001b[32m tired\u001b[32m from\u001b[32m my\u001b[32m morning\u001b[32m run\u001b[32m,\u001b[32m but\u001b[32m overall\u001b[32m energ\u001b[32mized\u001b[32m and\u001b[32m motivated\u001b[32m to\u001b[32m tackle\u001b[32m the\u001b[32m day\u001b[32m!"
     ]
    },
    {
     "data": {
      "text/html": [
       "<pre style=\"white-space:pre;overflow-x:auto;line-height:normal;font-family:Menlo,'DejaVu Sans Mono',consolas,'Courier New',monospace\">\n",
       "</pre>\n"
      ],
      "text/plain": [
       "\n"
      ]
     },
     "metadata": {},
     "output_type": "display_data"
    },
    {
     "data": {
      "text/html": [
       "<pre style=\"white-space:pre;overflow-x:auto;line-height:normal;font-family:Menlo,'DejaVu Sans Mono',consolas,'Courier New',monospace\"><span style=\"font-weight: bold\">Stats:</span> <span style=\"color: #800080; text-decoration-color: #800080\">N_MSG</span><span style=\"color: #800080; text-decoration-color: #800080\">=</span><span style=\"color: #800080; text-decoration-color: #800080; font-weight: bold\">8</span><span style=\"color: #800080; text-decoration-color: #800080\">, TOKENS: </span><span style=\"color: #800080; text-decoration-color: #800080\">in</span><span style=\"color: #800080; text-decoration-color: #800080\">=</span><span style=\"color: #800080; text-decoration-color: #800080; font-weight: bold\">502</span><span style=\"color: #800080; text-decoration-color: #800080\">, </span><span style=\"color: #800080; text-decoration-color: #800080\">out</span><span style=\"color: #800080; text-decoration-color: #800080\">=</span><span style=\"color: #800080; text-decoration-color: #800080; font-weight: bold\">25</span><span style=\"color: #800080; text-decoration-color: #800080\">, </span><span style=\"color: #800080; text-decoration-color: #800080\">max</span><span style=\"color: #800080; text-decoration-color: #800080\">=</span><span style=\"color: #800080; text-decoration-color: #800080; font-weight: bold\">8192</span><span style=\"color: #800080; text-decoration-color: #800080\">, </span><span style=\"color: #800080; text-decoration-color: #800080\">ctx</span><span style=\"color: #800080; text-decoration-color: #800080\">=</span><span style=\"color: #800080; text-decoration-color: #800080; font-weight: bold\">1600</span><span style=\"color: #800080; text-decoration-color: #800080\">, COST: </span><span style=\"color: #800080; text-decoration-color: #800080\">now</span><span style=\"color: #800080; text-decoration-color: #800080\">=$</span><span style=\"color: #800080; text-decoration-color: #800080; font-weight: bold\">0.0000</span><span style=\"color: #800080; text-decoration-color: #800080\">, </span><span style=\"color: #800080; text-decoration-color: #800080\">cumul</span><span style=\"color: #800080; text-decoration-color: #800080\">=$</span><span style=\"color: #800080; text-decoration-color: #800080; font-weight: bold\">0.0000</span><span style=\"color: #800080; text-decoration-color: #800080\">, </span><span style=\"color: #800080; text-decoration-color: #800080\">tot</span><span style=\"color: #800080; text-decoration-color: #800080\">=$</span><span style=\"color: #800080; text-decoration-color: #800080; font-weight: bold\">0.0000</span><span style=\"color: #800080; text-decoration-color: #800080\"> </span>\n",
       "<span style=\"color: #800080; text-decoration-color: #800080; font-weight: bold\">(llama3.</span><span style=\"color: #800080; text-decoration-color: #800080; font-weight: bold\">2</span><span style=\"color: #800080; text-decoration-color: #800080; font-weight: bold\">)</span>\n",
       "</pre>\n"
      ],
      "text/plain": [
       "\u001b[1mStats:\u001b[0m \u001b[35mN_MSG\u001b[0m\u001b[35m=\u001b[0m\u001b[1;35m8\u001b[0m\u001b[35m, TOKENS: \u001b[0m\u001b[35min\u001b[0m\u001b[35m=\u001b[0m\u001b[1;35m502\u001b[0m\u001b[35m, \u001b[0m\u001b[35mout\u001b[0m\u001b[35m=\u001b[0m\u001b[1;35m25\u001b[0m\u001b[35m, \u001b[0m\u001b[35mmax\u001b[0m\u001b[35m=\u001b[0m\u001b[1;35m8192\u001b[0m\u001b[35m, \u001b[0m\u001b[35mctx\u001b[0m\u001b[35m=\u001b[0m\u001b[1;35m1600\u001b[0m\u001b[35m, COST: \u001b[0m\u001b[35mnow\u001b[0m\u001b[35m=$\u001b[0m\u001b[1;35m0.0000\u001b[0m\u001b[35m, \u001b[0m\u001b[35mcumul\u001b[0m\u001b[35m=$\u001b[0m\u001b[1;35m0.0000\u001b[0m\u001b[35m, \u001b[0m\u001b[35mtot\u001b[0m\u001b[35m=$\u001b[0m\u001b[1;35m0.0000\u001b[0m\u001b[35m \u001b[0m\n",
       "\u001b[1;35m(\u001b[0m\u001b[1;35mllama3.\u001b[0m\u001b[1;35m2\u001b[0m\u001b[1;35m)\u001b[0m\n"
      ]
     },
     "metadata": {},
     "output_type": "display_data"
    },
    {
     "data": {
      "text/plain": [
       "ChatDocument(content=\"Today I'm feeling great, a bit tired from my morning run, but overall energized and motivated to tackle the day!\", metadata=ChatDocMetaData(source='LLM', source_content='context', is_chunk=False, id='5aea1aa1-02c2-40c2-840a-5085ef53a2a4', window_ids=[], parent_id='', child_id='', agent_id=FieldInfo(default=PydanticUndefined, default_factory=<function Agent.<lambda> at 0x11c668220>, extra={}), msg_idx=8, sender=<Entity.LLM: 'LLM'>, oai_tool_id=None, tool_ids=[], block=None, sender_name='', recipient='', usage=LLMTokenUsage(prompt_tokens=502, completion_tokens=25, cost=0.0, calls=0), cached=False, displayed=True, has_citation=False, status=None), reasoning='', content_any=\"Today I'm feeling great, a bit tired from my morning run, but overall energized and motivated to tackle the day!\", oai_tool_calls=None, oai_tool_id2result=None, oai_tool_choice='auto', function_call=None, tool_messages=[], all_tool_messages=[], attachment=None)"
      ]
     },
     "execution_count": 6,
     "metadata": {},
     "output_type": "execute_result"
    }
   ],
   "source": [
    "agent.llm_response(\"Please tell us how you are feeling today?, please do not use any tools for this.\")"
   ]
  },
  {
   "cell_type": "code",
   "execution_count": null,
   "metadata": {},
   "outputs": [],
   "source": []
  }
 ],
 "metadata": {
  "kernelspec": {
   "display_name": "lenv",
   "language": "python",
   "name": "python3"
  },
  "language_info": {
   "codemirror_mode": {
    "name": "ipython",
    "version": 3
   },
   "file_extension": ".py",
   "mimetype": "text/x-python",
   "name": "python",
   "nbconvert_exporter": "python",
   "pygments_lexer": "ipython3",
   "version": "3.11.11"
  }
 },
 "nbformat": 4,
 "nbformat_minor": 2
}
