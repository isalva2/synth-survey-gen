{
 "cells": [
  {
   "cell_type": "markdown",
   "metadata": {},
   "source": [
    "# Langroid Implementation"
   ]
  },
  {
   "cell_type": "code",
   "execution_count": null,
   "metadata": {},
   "outputs": [],
   "source": [
    "import langroid.language_models as lm\n",
    "import langroid as lr\n",
    "\n",
    "llm_config = lm.OpenAIGPTConfig(\n",
    "    chat_model=\"ollama/llama2:latest\",\n",
    "    chat_context_length=16_000, # adjust based on model\n",
    ")\n",
    "agent_config = lr.ChatAgentConfig(\n",
    "    llm=llm_config,\n",
    "    system_message=\"You are helpful but concise\",\n",
    ")\n",
    "agent = lr.ChatAgent(agent_config)\n",
    "# directly invoke agent's llm_response method\n",
    "# response = agent.llm_response(\"What is the capital of Russia?\")\n",
    "task = lr.Task(agent, interactive=True)\n",
    "task.run() # for an interactive chat loop"
   ]
  }
 ],
 "metadata": {
  "kernelspec": {
   "display_name": "lenv",
   "language": "python",
   "name": "python3"
  },
  "language_info": {
   "codemirror_mode": {
    "name": "ipython",
    "version": 3
   },
   "file_extension": ".py",
   "mimetype": "text/x-python",
   "name": "python",
   "nbconvert_exporter": "python",
   "pygments_lexer": "ipython3",
   "version": "3.11.11"
  }
 },
 "nbformat": 4,
 "nbformat_minor": 2
}
