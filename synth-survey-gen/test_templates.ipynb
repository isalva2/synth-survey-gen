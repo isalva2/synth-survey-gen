{
 "cells": [
  {
   "cell_type": "code",
   "execution_count": null,
   "metadata": {},
   "outputs": [],
   "source": [
    "from synthesize import *\n",
    "from preprocess import *\n",
    "\n",
    "\n",
    "config_folder = \"configs/Chicago\"\n",
    "n = 1000\n",
    "\n",
    "person = process_pums_data(config_folder)\n",
    "population_sample = synthesize_population(\n",
    "    config_folder=config_folder, n_sample=n, min_age=16\n",
    ")\n",
    "ploc = puma_locations(config_folder)"
   ]
  },
  {
   "cell_type": "code",
   "execution_count": null,
   "metadata": {},
   "outputs": [],
   "source": [
    "from tqdm import tqdm\n",
    "\n",
    "output = []\n",
    "attribute_descriptions = get_attribute_descriptions(person)\n",
    "for i, individual in tqdm(population_sample.reset_index().iterrows()):\n",
    "    individual_attributes = attribute_decoder_dict(individual.to_dict(), person)\n",
    "    print(i)\n",
    "    bio = write_individual_bio(individual_attributes, attribute_descriptions, config_folder, ploc=ploc)\n",
    "    output.append(str(i)+\"\\t\"+bio)\n",
    "    print(\"--\")\n",
    "\n",
    "with open(\"test.txt\", \"w\") as f:\n",
    "    f.writelines(\"\\n\\n\".join(output))"
   ]
  }
 ],
 "metadata": {
  "kernelspec": {
   "display_name": "venv",
   "language": "python",
   "name": "python3"
  },
  "language_info": {
   "codemirror_mode": {
    "name": "ipython",
    "version": 3
   },
   "file_extension": ".py",
   "mimetype": "text/x-python",
   "name": "python",
   "nbconvert_exporter": "python",
   "pygments_lexer": "ipython3",
   "version": "3.13.1"
  }
 },
 "nbformat": 4,
 "nbformat_minor": 2
}
