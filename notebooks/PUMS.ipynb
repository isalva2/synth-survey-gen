{
 "cells": [
  {
   "cell_type": "markdown",
   "metadata": {},
   "source": [
    "# Public Use Microdata Sample\n",
    "From: [https://www.census.gov/programs-surveys/acs/microdata.html](https://www.census.gov/programs-surveys/acs/microdata.html)\n",
    "The Census Bureau’s American Community Survey (ACS) Public Use Microdata Sample (PUMS) files enable data users to create custom estimates and tables, free of charge, that are not available through ACS pretabulated data products.  The ACS PUMS files are a set of records from individual people or housing units, with disclosure protection enabled so that individuals or housing units cannot be identified."
   ]
  },
  {
   "cell_type": "code",
   "execution_count": 138,
   "metadata": {},
   "outputs": [],
   "source": [
    "import pandas as pd\n",
    "\n",
    "pdf = pd.read_csv(\"../synth-survey-gen/data/pums/psam_p17.csv\", nrows=1)\n",
    "hdf = pd.read_csv(\"../synth-survey-gen/data/pums/psam_h17.csv\", nrows=1)\n",
    "dd = pd.read_csv(\"../synth-survey-gen/data/pums/PUMS_Data_Dictionary_2019.csv\", header=None, names=list(\"abcdefg\"))\n",
    "variable_desc = dd[dd.a == \"NAME\"].set_index(\"b\")[\"e\"].to_dict()\n",
    "\n",
    "person_variables = pdf.columns.values\n",
    "person_variable_dict = {k:v for k,v in variable_desc.items() if k in person_variables}\n",
    "person_answer_mapper = {}\n",
    "for variable,description in person_variable_dict.items():\n",
    "    answers = dd[(dd.a!=\"NAME\") & (dd.b==variable)][[\"f\",\"g\"]].drop_duplicates().set_index(\"f\")[\"g\"].to_dict()\n",
    "    person_answer_mapper[variable] = {\n",
    "        \"description\": description,\n",
    "        \"answers\": answers\n",
    "    }\n",
    "\n",
    "housing_variables = hdf.columns.values\n",
    "housing_variable_dict = {k:v for k,v in variable_desc.items() if k in housing_variables}\n",
    "housing_answer_mapper = {}\n",
    "for variable,description in housing_variable_dict.items():\n",
    "    answers = dd[(dd.a!=\"NAME\") & (dd.b==variable)][[\"f\",\"g\"]].drop_duplicates().set_index(\"f\")[\"g\"].to_dict()\n",
    "    housing_answer_mapper[variable] = {\n",
    "        \"description\": description,\n",
    "        \"answers\": answers\n",
    "    }"
   ]
  }
 ],
 "metadata": {
  "kernelspec": {
   "display_name": "venv",
   "language": "python",
   "name": "python3"
  },
  "language_info": {
   "codemirror_mode": {
    "name": "ipython",
    "version": 3
   },
   "file_extension": ".py",
   "mimetype": "text/x-python",
   "name": "python",
   "nbconvert_exporter": "python",
   "pygments_lexer": "ipython3",
   "version": "3.13.1"
  }
 },
 "nbformat": 4,
 "nbformat_minor": 2
}
